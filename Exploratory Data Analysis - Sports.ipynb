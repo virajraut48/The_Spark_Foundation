{
 "cells": [
  {
   "cell_type": "markdown",
   "id": "3b44a2bf",
   "metadata": {},
   "source": [
    "### VIRAJ JALINDAR RAUT  \n",
    "#### LinkedIn Profile : https://www.linkedin.com/in/viraj-raut-915b90209\n",
    "# THE SPARK FOUNDATION\n",
    "## TSF-GRIP TASK 5 ( Exploratory Data Analysis - IPL )"
   ]
  },
  {
   "cell_type": "code",
   "execution_count": 1,
   "id": "f60a230f",
   "metadata": {},
   "outputs": [
    {
     "name": "stdout",
     "output_type": "stream",
     "text": [
      "Modules are Imported\n"
     ]
    }
   ],
   "source": [
    "import pandas as pd\n",
    "import numpy as np\n",
    "import matplotlib.pyplot as plt\n",
    "%matplotlib inline\n",
    "print(\"Modules are Imported\")"
   ]
  },
  {
   "cell_type": "markdown",
   "id": "eb4b4424",
   "metadata": {},
   "source": [
    "### Importing the first dataset"
   ]
  },
  {
   "cell_type": "code",
   "execution_count": 2,
   "id": "6fffa9ee",
   "metadata": {},
   "outputs": [
    {
     "data": {
      "text/html": [
       "<div>\n",
       "<style scoped>\n",
       "    .dataframe tbody tr th:only-of-type {\n",
       "        vertical-align: middle;\n",
       "    }\n",
       "\n",
       "    .dataframe tbody tr th {\n",
       "        vertical-align: top;\n",
       "    }\n",
       "\n",
       "    .dataframe thead th {\n",
       "        text-align: right;\n",
       "    }\n",
       "</style>\n",
       "<table border=\"1\" class=\"dataframe\">\n",
       "  <thead>\n",
       "    <tr style=\"text-align: right;\">\n",
       "      <th></th>\n",
       "      <th>id</th>\n",
       "      <th>season</th>\n",
       "      <th>city</th>\n",
       "      <th>date</th>\n",
       "      <th>team1</th>\n",
       "      <th>team2</th>\n",
       "      <th>toss_winner</th>\n",
       "      <th>toss_decision</th>\n",
       "      <th>result</th>\n",
       "      <th>dl_applied</th>\n",
       "      <th>winner</th>\n",
       "      <th>win_by_runs</th>\n",
       "      <th>win_by_wickets</th>\n",
       "      <th>player_of_match</th>\n",
       "      <th>venue</th>\n",
       "      <th>umpire1</th>\n",
       "      <th>umpire2</th>\n",
       "      <th>umpire3</th>\n",
       "    </tr>\n",
       "  </thead>\n",
       "  <tbody>\n",
       "    <tr>\n",
       "      <th>0</th>\n",
       "      <td>1</td>\n",
       "      <td>2017</td>\n",
       "      <td>Hyderabad</td>\n",
       "      <td>2017-04-05</td>\n",
       "      <td>Sunrisers Hyderabad</td>\n",
       "      <td>Royal Challengers Bangalore</td>\n",
       "      <td>Royal Challengers Bangalore</td>\n",
       "      <td>field</td>\n",
       "      <td>normal</td>\n",
       "      <td>0</td>\n",
       "      <td>Sunrisers Hyderabad</td>\n",
       "      <td>35</td>\n",
       "      <td>0</td>\n",
       "      <td>Yuvraj Singh</td>\n",
       "      <td>Rajiv Gandhi International Stadium, Uppal</td>\n",
       "      <td>AY Dandekar</td>\n",
       "      <td>NJ Llong</td>\n",
       "      <td>NaN</td>\n",
       "    </tr>\n",
       "    <tr>\n",
       "      <th>1</th>\n",
       "      <td>2</td>\n",
       "      <td>2017</td>\n",
       "      <td>Pune</td>\n",
       "      <td>2017-04-06</td>\n",
       "      <td>Mumbai Indians</td>\n",
       "      <td>Rising Pune Supergiant</td>\n",
       "      <td>Rising Pune Supergiant</td>\n",
       "      <td>field</td>\n",
       "      <td>normal</td>\n",
       "      <td>0</td>\n",
       "      <td>Rising Pune Supergiant</td>\n",
       "      <td>0</td>\n",
       "      <td>7</td>\n",
       "      <td>SPD Smith</td>\n",
       "      <td>Maharashtra Cricket Association Stadium</td>\n",
       "      <td>A Nand Kishore</td>\n",
       "      <td>S Ravi</td>\n",
       "      <td>NaN</td>\n",
       "    </tr>\n",
       "    <tr>\n",
       "      <th>2</th>\n",
       "      <td>3</td>\n",
       "      <td>2017</td>\n",
       "      <td>Rajkot</td>\n",
       "      <td>2017-04-07</td>\n",
       "      <td>Gujarat Lions</td>\n",
       "      <td>Kolkata Knight Riders</td>\n",
       "      <td>Kolkata Knight Riders</td>\n",
       "      <td>field</td>\n",
       "      <td>normal</td>\n",
       "      <td>0</td>\n",
       "      <td>Kolkata Knight Riders</td>\n",
       "      <td>0</td>\n",
       "      <td>10</td>\n",
       "      <td>CA Lynn</td>\n",
       "      <td>Saurashtra Cricket Association Stadium</td>\n",
       "      <td>Nitin Menon</td>\n",
       "      <td>CK Nandan</td>\n",
       "      <td>NaN</td>\n",
       "    </tr>\n",
       "    <tr>\n",
       "      <th>3</th>\n",
       "      <td>4</td>\n",
       "      <td>2017</td>\n",
       "      <td>Indore</td>\n",
       "      <td>2017-04-08</td>\n",
       "      <td>Rising Pune Supergiant</td>\n",
       "      <td>Kings XI Punjab</td>\n",
       "      <td>Kings XI Punjab</td>\n",
       "      <td>field</td>\n",
       "      <td>normal</td>\n",
       "      <td>0</td>\n",
       "      <td>Kings XI Punjab</td>\n",
       "      <td>0</td>\n",
       "      <td>6</td>\n",
       "      <td>GJ Maxwell</td>\n",
       "      <td>Holkar Cricket Stadium</td>\n",
       "      <td>AK Chaudhary</td>\n",
       "      <td>C Shamshuddin</td>\n",
       "      <td>NaN</td>\n",
       "    </tr>\n",
       "    <tr>\n",
       "      <th>4</th>\n",
       "      <td>5</td>\n",
       "      <td>2017</td>\n",
       "      <td>Bangalore</td>\n",
       "      <td>2017-04-08</td>\n",
       "      <td>Royal Challengers Bangalore</td>\n",
       "      <td>Delhi Daredevils</td>\n",
       "      <td>Royal Challengers Bangalore</td>\n",
       "      <td>bat</td>\n",
       "      <td>normal</td>\n",
       "      <td>0</td>\n",
       "      <td>Royal Challengers Bangalore</td>\n",
       "      <td>15</td>\n",
       "      <td>0</td>\n",
       "      <td>KM Jadhav</td>\n",
       "      <td>M Chinnaswamy Stadium</td>\n",
       "      <td>NaN</td>\n",
       "      <td>NaN</td>\n",
       "      <td>NaN</td>\n",
       "    </tr>\n",
       "  </tbody>\n",
       "</table>\n",
       "</div>"
      ],
      "text/plain": [
       "   id  season       city        date                        team1  \\\n",
       "0   1    2017  Hyderabad  2017-04-05          Sunrisers Hyderabad   \n",
       "1   2    2017       Pune  2017-04-06               Mumbai Indians   \n",
       "2   3    2017     Rajkot  2017-04-07                Gujarat Lions   \n",
       "3   4    2017     Indore  2017-04-08       Rising Pune Supergiant   \n",
       "4   5    2017  Bangalore  2017-04-08  Royal Challengers Bangalore   \n",
       "\n",
       "                         team2                  toss_winner toss_decision  \\\n",
       "0  Royal Challengers Bangalore  Royal Challengers Bangalore         field   \n",
       "1       Rising Pune Supergiant       Rising Pune Supergiant         field   \n",
       "2        Kolkata Knight Riders        Kolkata Knight Riders         field   \n",
       "3              Kings XI Punjab              Kings XI Punjab         field   \n",
       "4             Delhi Daredevils  Royal Challengers Bangalore           bat   \n",
       "\n",
       "   result  dl_applied                       winner  win_by_runs  \\\n",
       "0  normal           0          Sunrisers Hyderabad           35   \n",
       "1  normal           0       Rising Pune Supergiant            0   \n",
       "2  normal           0        Kolkata Knight Riders            0   \n",
       "3  normal           0              Kings XI Punjab            0   \n",
       "4  normal           0  Royal Challengers Bangalore           15   \n",
       "\n",
       "   win_by_wickets player_of_match                                      venue  \\\n",
       "0               0    Yuvraj Singh  Rajiv Gandhi International Stadium, Uppal   \n",
       "1               7       SPD Smith    Maharashtra Cricket Association Stadium   \n",
       "2              10         CA Lynn     Saurashtra Cricket Association Stadium   \n",
       "3               6      GJ Maxwell                     Holkar Cricket Stadium   \n",
       "4               0       KM Jadhav                      M Chinnaswamy Stadium   \n",
       "\n",
       "          umpire1        umpire2 umpire3  \n",
       "0     AY Dandekar       NJ Llong     NaN  \n",
       "1  A Nand Kishore         S Ravi     NaN  \n",
       "2     Nitin Menon      CK Nandan     NaN  \n",
       "3    AK Chaudhary  C Shamshuddin     NaN  \n",
       "4             NaN            NaN     NaN  "
      ]
     },
     "execution_count": 2,
     "metadata": {},
     "output_type": "execute_result"
    }
   ],
   "source": [
    "df_matches=pd.read_csv(\"matches.csv\")\n",
    "df_matches.head()"
   ]
  },
  {
   "cell_type": "markdown",
   "id": "e36234f9",
   "metadata": {},
   "source": [
    "### Imorting the second dataset"
   ]
  },
  {
   "cell_type": "code",
   "execution_count": 3,
   "id": "c07b4833",
   "metadata": {},
   "outputs": [
    {
     "data": {
      "text/html": [
       "<div>\n",
       "<style scoped>\n",
       "    .dataframe tbody tr th:only-of-type {\n",
       "        vertical-align: middle;\n",
       "    }\n",
       "\n",
       "    .dataframe tbody tr th {\n",
       "        vertical-align: top;\n",
       "    }\n",
       "\n",
       "    .dataframe thead th {\n",
       "        text-align: right;\n",
       "    }\n",
       "</style>\n",
       "<table border=\"1\" class=\"dataframe\">\n",
       "  <thead>\n",
       "    <tr style=\"text-align: right;\">\n",
       "      <th></th>\n",
       "      <th>match_id</th>\n",
       "      <th>inning</th>\n",
       "      <th>batting_team</th>\n",
       "      <th>bowling_team</th>\n",
       "      <th>over</th>\n",
       "      <th>ball</th>\n",
       "      <th>batsman</th>\n",
       "      <th>non_striker</th>\n",
       "      <th>bowler</th>\n",
       "      <th>is_super_over</th>\n",
       "      <th>...</th>\n",
       "      <th>bye_runs</th>\n",
       "      <th>legbye_runs</th>\n",
       "      <th>noball_runs</th>\n",
       "      <th>penalty_runs</th>\n",
       "      <th>batsman_runs</th>\n",
       "      <th>extra_runs</th>\n",
       "      <th>total_runs</th>\n",
       "      <th>player_dismissed</th>\n",
       "      <th>dismissal_kind</th>\n",
       "      <th>fielder</th>\n",
       "    </tr>\n",
       "  </thead>\n",
       "  <tbody>\n",
       "    <tr>\n",
       "      <th>0</th>\n",
       "      <td>1</td>\n",
       "      <td>1</td>\n",
       "      <td>Sunrisers Hyderabad</td>\n",
       "      <td>Royal Challengers Bangalore</td>\n",
       "      <td>1</td>\n",
       "      <td>1</td>\n",
       "      <td>DA Warner</td>\n",
       "      <td>S Dhawan</td>\n",
       "      <td>TS Mills</td>\n",
       "      <td>0</td>\n",
       "      <td>...</td>\n",
       "      <td>0</td>\n",
       "      <td>0</td>\n",
       "      <td>0</td>\n",
       "      <td>0</td>\n",
       "      <td>0</td>\n",
       "      <td>0</td>\n",
       "      <td>0</td>\n",
       "      <td>NaN</td>\n",
       "      <td>NaN</td>\n",
       "      <td>NaN</td>\n",
       "    </tr>\n",
       "    <tr>\n",
       "      <th>1</th>\n",
       "      <td>1</td>\n",
       "      <td>1</td>\n",
       "      <td>Sunrisers Hyderabad</td>\n",
       "      <td>Royal Challengers Bangalore</td>\n",
       "      <td>1</td>\n",
       "      <td>2</td>\n",
       "      <td>DA Warner</td>\n",
       "      <td>S Dhawan</td>\n",
       "      <td>TS Mills</td>\n",
       "      <td>0</td>\n",
       "      <td>...</td>\n",
       "      <td>0</td>\n",
       "      <td>0</td>\n",
       "      <td>0</td>\n",
       "      <td>0</td>\n",
       "      <td>0</td>\n",
       "      <td>0</td>\n",
       "      <td>0</td>\n",
       "      <td>NaN</td>\n",
       "      <td>NaN</td>\n",
       "      <td>NaN</td>\n",
       "    </tr>\n",
       "    <tr>\n",
       "      <th>2</th>\n",
       "      <td>1</td>\n",
       "      <td>1</td>\n",
       "      <td>Sunrisers Hyderabad</td>\n",
       "      <td>Royal Challengers Bangalore</td>\n",
       "      <td>1</td>\n",
       "      <td>3</td>\n",
       "      <td>DA Warner</td>\n",
       "      <td>S Dhawan</td>\n",
       "      <td>TS Mills</td>\n",
       "      <td>0</td>\n",
       "      <td>...</td>\n",
       "      <td>0</td>\n",
       "      <td>0</td>\n",
       "      <td>0</td>\n",
       "      <td>0</td>\n",
       "      <td>4</td>\n",
       "      <td>0</td>\n",
       "      <td>4</td>\n",
       "      <td>NaN</td>\n",
       "      <td>NaN</td>\n",
       "      <td>NaN</td>\n",
       "    </tr>\n",
       "    <tr>\n",
       "      <th>3</th>\n",
       "      <td>1</td>\n",
       "      <td>1</td>\n",
       "      <td>Sunrisers Hyderabad</td>\n",
       "      <td>Royal Challengers Bangalore</td>\n",
       "      <td>1</td>\n",
       "      <td>4</td>\n",
       "      <td>DA Warner</td>\n",
       "      <td>S Dhawan</td>\n",
       "      <td>TS Mills</td>\n",
       "      <td>0</td>\n",
       "      <td>...</td>\n",
       "      <td>0</td>\n",
       "      <td>0</td>\n",
       "      <td>0</td>\n",
       "      <td>0</td>\n",
       "      <td>0</td>\n",
       "      <td>0</td>\n",
       "      <td>0</td>\n",
       "      <td>NaN</td>\n",
       "      <td>NaN</td>\n",
       "      <td>NaN</td>\n",
       "    </tr>\n",
       "    <tr>\n",
       "      <th>4</th>\n",
       "      <td>1</td>\n",
       "      <td>1</td>\n",
       "      <td>Sunrisers Hyderabad</td>\n",
       "      <td>Royal Challengers Bangalore</td>\n",
       "      <td>1</td>\n",
       "      <td>5</td>\n",
       "      <td>DA Warner</td>\n",
       "      <td>S Dhawan</td>\n",
       "      <td>TS Mills</td>\n",
       "      <td>0</td>\n",
       "      <td>...</td>\n",
       "      <td>0</td>\n",
       "      <td>0</td>\n",
       "      <td>0</td>\n",
       "      <td>0</td>\n",
       "      <td>0</td>\n",
       "      <td>2</td>\n",
       "      <td>2</td>\n",
       "      <td>NaN</td>\n",
       "      <td>NaN</td>\n",
       "      <td>NaN</td>\n",
       "    </tr>\n",
       "  </tbody>\n",
       "</table>\n",
       "<p>5 rows × 21 columns</p>\n",
       "</div>"
      ],
      "text/plain": [
       "   match_id  inning         batting_team                 bowling_team  over  \\\n",
       "0         1       1  Sunrisers Hyderabad  Royal Challengers Bangalore     1   \n",
       "1         1       1  Sunrisers Hyderabad  Royal Challengers Bangalore     1   \n",
       "2         1       1  Sunrisers Hyderabad  Royal Challengers Bangalore     1   \n",
       "3         1       1  Sunrisers Hyderabad  Royal Challengers Bangalore     1   \n",
       "4         1       1  Sunrisers Hyderabad  Royal Challengers Bangalore     1   \n",
       "\n",
       "   ball    batsman non_striker    bowler  is_super_over  ...  bye_runs  \\\n",
       "0     1  DA Warner    S Dhawan  TS Mills              0  ...         0   \n",
       "1     2  DA Warner    S Dhawan  TS Mills              0  ...         0   \n",
       "2     3  DA Warner    S Dhawan  TS Mills              0  ...         0   \n",
       "3     4  DA Warner    S Dhawan  TS Mills              0  ...         0   \n",
       "4     5  DA Warner    S Dhawan  TS Mills              0  ...         0   \n",
       "\n",
       "   legbye_runs  noball_runs  penalty_runs  batsman_runs  extra_runs  \\\n",
       "0            0            0             0             0           0   \n",
       "1            0            0             0             0           0   \n",
       "2            0            0             0             4           0   \n",
       "3            0            0             0             0           0   \n",
       "4            0            0             0             0           2   \n",
       "\n",
       "   total_runs  player_dismissed dismissal_kind fielder  \n",
       "0           0               NaN            NaN     NaN  \n",
       "1           0               NaN            NaN     NaN  \n",
       "2           4               NaN            NaN     NaN  \n",
       "3           0               NaN            NaN     NaN  \n",
       "4           2               NaN            NaN     NaN  \n",
       "\n",
       "[5 rows x 21 columns]"
      ]
     },
     "execution_count": 3,
     "metadata": {},
     "output_type": "execute_result"
    }
   ],
   "source": [
    "df_deliveries=pd.read_csv(\"deliveries.csv\")\n",
    "df_deliveries.head()"
   ]
  },
  {
   "cell_type": "markdown",
   "id": "0c873828",
   "metadata": {},
   "source": [
    "### Pre-processing on first dataset"
   ]
  },
  {
   "cell_type": "code",
   "execution_count": 4,
   "id": "3a0a26b1",
   "metadata": {
    "scrolled": true
   },
   "outputs": [
    {
     "data": {
      "text/plain": [
       "(756, 18)"
      ]
     },
     "execution_count": 4,
     "metadata": {},
     "output_type": "execute_result"
    }
   ],
   "source": [
    "df_matches.shape"
   ]
  },
  {
   "cell_type": "markdown",
   "id": "bd3a44c5",
   "metadata": {},
   "source": [
    "#### Dataset contains 756 IPL matches data with 18 attributes"
   ]
  },
  {
   "cell_type": "code",
   "execution_count": 5,
   "id": "6c773f53",
   "metadata": {},
   "outputs": [
    {
     "data": {
      "text/plain": [
       "Index(['id', 'season', 'city', 'date', 'team1', 'team2', 'toss_winner',\n",
       "       'toss_decision', 'result', 'dl_applied', 'winner', 'win_by_runs',\n",
       "       'win_by_wickets', 'player_of_match', 'venue', 'umpire1', 'umpire2',\n",
       "       'umpire3'],\n",
       "      dtype='object')"
      ]
     },
     "execution_count": 5,
     "metadata": {},
     "output_type": "execute_result"
    }
   ],
   "source": [
    "df_matches.columns"
   ]
  },
  {
   "cell_type": "markdown",
   "id": "db6acfe5",
   "metadata": {},
   "source": [
    "### Drop columns that are not required"
   ]
  },
  {
   "cell_type": "code",
   "execution_count": 6,
   "id": "71e90e3d",
   "metadata": {
    "scrolled": true
   },
   "outputs": [],
   "source": [
    "df_matches = df_matches.drop(['umpire2','umpire3'],axis=1)"
   ]
  },
  {
   "cell_type": "code",
   "execution_count": 7,
   "id": "26f75fd9",
   "metadata": {},
   "outputs": [
    {
     "data": {
      "text/plain": [
       "(756, 16)"
      ]
     },
     "execution_count": 7,
     "metadata": {},
     "output_type": "execute_result"
    }
   ],
   "source": [
    "df_matches.shape"
   ]
  },
  {
   "cell_type": "markdown",
   "id": "f2f54e96",
   "metadata": {},
   "source": [
    "### Checking the info of the dataset"
   ]
  },
  {
   "cell_type": "code",
   "execution_count": 8,
   "id": "c05c8e5b",
   "metadata": {},
   "outputs": [
    {
     "name": "stdout",
     "output_type": "stream",
     "text": [
      "<class 'pandas.core.frame.DataFrame'>\n",
      "RangeIndex: 756 entries, 0 to 755\n",
      "Data columns (total 16 columns):\n",
      " #   Column           Non-Null Count  Dtype \n",
      "---  ------           --------------  ----- \n",
      " 0   id               756 non-null    int64 \n",
      " 1   season           756 non-null    int64 \n",
      " 2   city             749 non-null    object\n",
      " 3   date             756 non-null    object\n",
      " 4   team1            756 non-null    object\n",
      " 5   team2            756 non-null    object\n",
      " 6   toss_winner      756 non-null    object\n",
      " 7   toss_decision    756 non-null    object\n",
      " 8   result           756 non-null    object\n",
      " 9   dl_applied       756 non-null    int64 \n",
      " 10  winner           752 non-null    object\n",
      " 11  win_by_runs      756 non-null    int64 \n",
      " 12  win_by_wickets   756 non-null    int64 \n",
      " 13  player_of_match  752 non-null    object\n",
      " 14  venue            756 non-null    object\n",
      " 15  umpire1          754 non-null    object\n",
      "dtypes: int64(5), object(11)\n",
      "memory usage: 94.6+ KB\n"
     ]
    }
   ],
   "source": [
    "df_matches.info()"
   ]
  },
  {
   "cell_type": "markdown",
   "id": "b7f69d39",
   "metadata": {},
   "source": [
    "### Checking the count of missing values in dataset"
   ]
  },
  {
   "cell_type": "code",
   "execution_count": 9,
   "id": "ab3233bc",
   "metadata": {},
   "outputs": [
    {
     "data": {
      "text/plain": [
       "id                 0\n",
       "season             0\n",
       "city               7\n",
       "date               0\n",
       "team1              0\n",
       "team2              0\n",
       "toss_winner        0\n",
       "toss_decision      0\n",
       "result             0\n",
       "dl_applied         0\n",
       "winner             4\n",
       "win_by_runs        0\n",
       "win_by_wickets     0\n",
       "player_of_match    4\n",
       "venue              0\n",
       "umpire1            2\n",
       "dtype: int64"
      ]
     },
     "execution_count": 9,
     "metadata": {},
     "output_type": "execute_result"
    }
   ],
   "source": [
    "df_matches.isnull().sum()"
   ]
  },
  {
   "cell_type": "markdown",
   "id": "0278181e",
   "metadata": {},
   "source": [
    "#### 7 Missing values in city column, 4 each in \"winner\" and \"player of match\" column"
   ]
  },
  {
   "cell_type": "markdown",
   "id": "ec6879de",
   "metadata": {},
   "source": [
    "### Let's deals with missing values"
   ]
  },
  {
   "cell_type": "code",
   "execution_count": 10,
   "id": "9dd9ce5e",
   "metadata": {
    "scrolled": true
   },
   "outputs": [
    {
     "data": {
      "text/plain": [
       "array(['Hyderabad', 'Pune', 'Rajkot', 'Indore', 'Bangalore', 'Mumbai',\n",
       "       'Kolkata', 'Delhi', 'Chandigarh', 'Kanpur', 'Jaipur', 'Chennai',\n",
       "       'Cape Town', 'Port Elizabeth', 'Durban', 'Centurion',\n",
       "       'East London', 'Johannesburg', 'Kimberley', 'Bloemfontein',\n",
       "       'Ahmedabad', 'Cuttack', 'Nagpur', 'Dharamsala', 'Kochi',\n",
       "       'Visakhapatnam', 'Raipur', 'Ranchi', 'Abu Dhabi', 'Sharjah', nan,\n",
       "       'Mohali', 'Bengaluru'], dtype=object)"
      ]
     },
     "execution_count": 10,
     "metadata": {},
     "output_type": "execute_result"
    }
   ],
   "source": [
    "df_matches['city'].unique()"
   ]
  },
  {
   "cell_type": "code",
   "execution_count": 11,
   "id": "c6611a6b",
   "metadata": {
    "scrolled": false
   },
   "outputs": [
    {
     "data": {
      "text/html": [
       "<div>\n",
       "<style scoped>\n",
       "    .dataframe tbody tr th:only-of-type {\n",
       "        vertical-align: middle;\n",
       "    }\n",
       "\n",
       "    .dataframe tbody tr th {\n",
       "        vertical-align: top;\n",
       "    }\n",
       "\n",
       "    .dataframe thead th {\n",
       "        text-align: right;\n",
       "    }\n",
       "</style>\n",
       "<table border=\"1\" class=\"dataframe\">\n",
       "  <thead>\n",
       "    <tr style=\"text-align: right;\">\n",
       "      <th></th>\n",
       "      <th>id</th>\n",
       "      <th>season</th>\n",
       "      <th>city</th>\n",
       "      <th>date</th>\n",
       "      <th>team1</th>\n",
       "      <th>team2</th>\n",
       "      <th>toss_winner</th>\n",
       "      <th>toss_decision</th>\n",
       "      <th>result</th>\n",
       "      <th>dl_applied</th>\n",
       "      <th>winner</th>\n",
       "      <th>win_by_runs</th>\n",
       "      <th>win_by_wickets</th>\n",
       "      <th>player_of_match</th>\n",
       "      <th>venue</th>\n",
       "      <th>umpire1</th>\n",
       "    </tr>\n",
       "  </thead>\n",
       "  <tbody>\n",
       "    <tr>\n",
       "      <th>461</th>\n",
       "      <td>462</td>\n",
       "      <td>2014</td>\n",
       "      <td>NaN</td>\n",
       "      <td>2014-04-19</td>\n",
       "      <td>Mumbai Indians</td>\n",
       "      <td>Royal Challengers Bangalore</td>\n",
       "      <td>Royal Challengers Bangalore</td>\n",
       "      <td>field</td>\n",
       "      <td>normal</td>\n",
       "      <td>0</td>\n",
       "      <td>Royal Challengers Bangalore</td>\n",
       "      <td>0</td>\n",
       "      <td>7</td>\n",
       "      <td>PA Patel</td>\n",
       "      <td>Dubai International Cricket Stadium</td>\n",
       "      <td>Aleem Dar</td>\n",
       "    </tr>\n",
       "    <tr>\n",
       "      <th>462</th>\n",
       "      <td>463</td>\n",
       "      <td>2014</td>\n",
       "      <td>NaN</td>\n",
       "      <td>2014-04-19</td>\n",
       "      <td>Kolkata Knight Riders</td>\n",
       "      <td>Delhi Daredevils</td>\n",
       "      <td>Kolkata Knight Riders</td>\n",
       "      <td>bat</td>\n",
       "      <td>normal</td>\n",
       "      <td>0</td>\n",
       "      <td>Delhi Daredevils</td>\n",
       "      <td>0</td>\n",
       "      <td>4</td>\n",
       "      <td>JP Duminy</td>\n",
       "      <td>Dubai International Cricket Stadium</td>\n",
       "      <td>Aleem Dar</td>\n",
       "    </tr>\n",
       "    <tr>\n",
       "      <th>466</th>\n",
       "      <td>467</td>\n",
       "      <td>2014</td>\n",
       "      <td>NaN</td>\n",
       "      <td>2014-04-23</td>\n",
       "      <td>Chennai Super Kings</td>\n",
       "      <td>Rajasthan Royals</td>\n",
       "      <td>Rajasthan Royals</td>\n",
       "      <td>field</td>\n",
       "      <td>normal</td>\n",
       "      <td>0</td>\n",
       "      <td>Chennai Super Kings</td>\n",
       "      <td>7</td>\n",
       "      <td>0</td>\n",
       "      <td>RA Jadeja</td>\n",
       "      <td>Dubai International Cricket Stadium</td>\n",
       "      <td>HDPK Dharmasena</td>\n",
       "    </tr>\n",
       "    <tr>\n",
       "      <th>468</th>\n",
       "      <td>469</td>\n",
       "      <td>2014</td>\n",
       "      <td>NaN</td>\n",
       "      <td>2014-04-25</td>\n",
       "      <td>Sunrisers Hyderabad</td>\n",
       "      <td>Delhi Daredevils</td>\n",
       "      <td>Sunrisers Hyderabad</td>\n",
       "      <td>bat</td>\n",
       "      <td>normal</td>\n",
       "      <td>0</td>\n",
       "      <td>Sunrisers Hyderabad</td>\n",
       "      <td>4</td>\n",
       "      <td>0</td>\n",
       "      <td>AJ Finch</td>\n",
       "      <td>Dubai International Cricket Stadium</td>\n",
       "      <td>M Erasmus</td>\n",
       "    </tr>\n",
       "    <tr>\n",
       "      <th>469</th>\n",
       "      <td>470</td>\n",
       "      <td>2014</td>\n",
       "      <td>NaN</td>\n",
       "      <td>2014-04-25</td>\n",
       "      <td>Mumbai Indians</td>\n",
       "      <td>Chennai Super Kings</td>\n",
       "      <td>Mumbai Indians</td>\n",
       "      <td>bat</td>\n",
       "      <td>normal</td>\n",
       "      <td>0</td>\n",
       "      <td>Chennai Super Kings</td>\n",
       "      <td>0</td>\n",
       "      <td>7</td>\n",
       "      <td>MM Sharma</td>\n",
       "      <td>Dubai International Cricket Stadium</td>\n",
       "      <td>BF Bowden</td>\n",
       "    </tr>\n",
       "    <tr>\n",
       "      <th>474</th>\n",
       "      <td>475</td>\n",
       "      <td>2014</td>\n",
       "      <td>NaN</td>\n",
       "      <td>2014-04-28</td>\n",
       "      <td>Royal Challengers Bangalore</td>\n",
       "      <td>Kings XI Punjab</td>\n",
       "      <td>Kings XI Punjab</td>\n",
       "      <td>field</td>\n",
       "      <td>normal</td>\n",
       "      <td>0</td>\n",
       "      <td>Kings XI Punjab</td>\n",
       "      <td>0</td>\n",
       "      <td>5</td>\n",
       "      <td>Sandeep Sharma</td>\n",
       "      <td>Dubai International Cricket Stadium</td>\n",
       "      <td>BF Bowden</td>\n",
       "    </tr>\n",
       "    <tr>\n",
       "      <th>476</th>\n",
       "      <td>477</td>\n",
       "      <td>2014</td>\n",
       "      <td>NaN</td>\n",
       "      <td>2014-04-30</td>\n",
       "      <td>Sunrisers Hyderabad</td>\n",
       "      <td>Mumbai Indians</td>\n",
       "      <td>Mumbai Indians</td>\n",
       "      <td>field</td>\n",
       "      <td>normal</td>\n",
       "      <td>0</td>\n",
       "      <td>Sunrisers Hyderabad</td>\n",
       "      <td>15</td>\n",
       "      <td>0</td>\n",
       "      <td>B Kumar</td>\n",
       "      <td>Dubai International Cricket Stadium</td>\n",
       "      <td>HDPK Dharmasena</td>\n",
       "    </tr>\n",
       "  </tbody>\n",
       "</table>\n",
       "</div>"
      ],
      "text/plain": [
       "      id  season city        date                        team1  \\\n",
       "461  462    2014  NaN  2014-04-19               Mumbai Indians   \n",
       "462  463    2014  NaN  2014-04-19        Kolkata Knight Riders   \n",
       "466  467    2014  NaN  2014-04-23          Chennai Super Kings   \n",
       "468  469    2014  NaN  2014-04-25          Sunrisers Hyderabad   \n",
       "469  470    2014  NaN  2014-04-25               Mumbai Indians   \n",
       "474  475    2014  NaN  2014-04-28  Royal Challengers Bangalore   \n",
       "476  477    2014  NaN  2014-04-30          Sunrisers Hyderabad   \n",
       "\n",
       "                           team2                  toss_winner toss_decision  \\\n",
       "461  Royal Challengers Bangalore  Royal Challengers Bangalore         field   \n",
       "462             Delhi Daredevils        Kolkata Knight Riders           bat   \n",
       "466             Rajasthan Royals             Rajasthan Royals         field   \n",
       "468             Delhi Daredevils          Sunrisers Hyderabad           bat   \n",
       "469          Chennai Super Kings               Mumbai Indians           bat   \n",
       "474              Kings XI Punjab              Kings XI Punjab         field   \n",
       "476               Mumbai Indians               Mumbai Indians         field   \n",
       "\n",
       "     result  dl_applied                       winner  win_by_runs  \\\n",
       "461  normal           0  Royal Challengers Bangalore            0   \n",
       "462  normal           0             Delhi Daredevils            0   \n",
       "466  normal           0          Chennai Super Kings            7   \n",
       "468  normal           0          Sunrisers Hyderabad            4   \n",
       "469  normal           0          Chennai Super Kings            0   \n",
       "474  normal           0              Kings XI Punjab            0   \n",
       "476  normal           0          Sunrisers Hyderabad           15   \n",
       "\n",
       "     win_by_wickets player_of_match                                venue  \\\n",
       "461               7        PA Patel  Dubai International Cricket Stadium   \n",
       "462               4       JP Duminy  Dubai International Cricket Stadium   \n",
       "466               0       RA Jadeja  Dubai International Cricket Stadium   \n",
       "468               0        AJ Finch  Dubai International Cricket Stadium   \n",
       "469               7       MM Sharma  Dubai International Cricket Stadium   \n",
       "474               5  Sandeep Sharma  Dubai International Cricket Stadium   \n",
       "476               0         B Kumar  Dubai International Cricket Stadium   \n",
       "\n",
       "             umpire1  \n",
       "461        Aleem Dar  \n",
       "462        Aleem Dar  \n",
       "466  HDPK Dharmasena  \n",
       "468        M Erasmus  \n",
       "469        BF Bowden  \n",
       "474        BF Bowden  \n",
       "476  HDPK Dharmasena  "
      ]
     },
     "execution_count": 11,
     "metadata": {},
     "output_type": "execute_result"
    }
   ],
   "source": [
    "df_matches[df_matches.city.isnull()]"
   ]
  },
  {
   "cell_type": "code",
   "execution_count": 12,
   "id": "7e59fc1e",
   "metadata": {},
   "outputs": [
    {
     "data": {
      "text/html": [
       "<div>\n",
       "<style scoped>\n",
       "    .dataframe tbody tr th:only-of-type {\n",
       "        vertical-align: middle;\n",
       "    }\n",
       "\n",
       "    .dataframe tbody tr th {\n",
       "        vertical-align: top;\n",
       "    }\n",
       "\n",
       "    .dataframe thead th {\n",
       "        text-align: right;\n",
       "    }\n",
       "</style>\n",
       "<table border=\"1\" class=\"dataframe\">\n",
       "  <thead>\n",
       "    <tr style=\"text-align: right;\">\n",
       "      <th></th>\n",
       "      <th>city</th>\n",
       "      <th>date</th>\n",
       "    </tr>\n",
       "  </thead>\n",
       "  <tbody>\n",
       "    <tr>\n",
       "      <th>461</th>\n",
       "      <td>NaN</td>\n",
       "      <td>2014-04-19</td>\n",
       "    </tr>\n",
       "    <tr>\n",
       "      <th>462</th>\n",
       "      <td>NaN</td>\n",
       "      <td>2014-04-19</td>\n",
       "    </tr>\n",
       "    <tr>\n",
       "      <th>466</th>\n",
       "      <td>NaN</td>\n",
       "      <td>2014-04-23</td>\n",
       "    </tr>\n",
       "    <tr>\n",
       "      <th>468</th>\n",
       "      <td>NaN</td>\n",
       "      <td>2014-04-25</td>\n",
       "    </tr>\n",
       "    <tr>\n",
       "      <th>469</th>\n",
       "      <td>NaN</td>\n",
       "      <td>2014-04-25</td>\n",
       "    </tr>\n",
       "    <tr>\n",
       "      <th>474</th>\n",
       "      <td>NaN</td>\n",
       "      <td>2014-04-28</td>\n",
       "    </tr>\n",
       "    <tr>\n",
       "      <th>476</th>\n",
       "      <td>NaN</td>\n",
       "      <td>2014-04-30</td>\n",
       "    </tr>\n",
       "  </tbody>\n",
       "</table>\n",
       "</div>"
      ],
      "text/plain": [
       "    city        date\n",
       "461  NaN  2014-04-19\n",
       "462  NaN  2014-04-19\n",
       "466  NaN  2014-04-23\n",
       "468  NaN  2014-04-25\n",
       "469  NaN  2014-04-25\n",
       "474  NaN  2014-04-28\n",
       "476  NaN  2014-04-30"
      ]
     },
     "execution_count": 12,
     "metadata": {},
     "output_type": "execute_result"
    }
   ],
   "source": [
    "df_matches[df_matches.city.isnull()][['city','date']]"
   ]
  },
  {
   "cell_type": "markdown",
   "id": "2e638c82",
   "metadata": {},
   "source": [
    "#### As these dates belongs to the matches where the city columns values are missing and we see that all these matches belongs to the 2014 Season. So We Can Use These Dates And Season Year(2014) to find out the city of the match. On web seach we can check that all the matches with missing city was played at Dubai International Stadium.\n",
    "\n"
   ]
  },
  {
   "cell_type": "markdown",
   "id": "6e452249",
   "metadata": {},
   "source": [
    "### Fill this missing values with the \"Dubai\" city"
   ]
  },
  {
   "cell_type": "code",
   "execution_count": 13,
   "id": "0cbee24a",
   "metadata": {},
   "outputs": [
    {
     "data": {
      "text/plain": [
       "id                 0\n",
       "season             0\n",
       "city               0\n",
       "date               0\n",
       "team1              0\n",
       "team2              0\n",
       "toss_winner        0\n",
       "toss_decision      0\n",
       "result             0\n",
       "dl_applied         0\n",
       "winner             4\n",
       "win_by_runs        0\n",
       "win_by_wickets     0\n",
       "player_of_match    4\n",
       "venue              0\n",
       "umpire1            2\n",
       "dtype: int64"
      ]
     },
     "execution_count": 13,
     "metadata": {},
     "output_type": "execute_result"
    }
   ],
   "source": [
    "df_matches.city=df_matches.city.fillna('Dubai')\n",
    "df_matches.isnull().sum()"
   ]
  },
  {
   "cell_type": "markdown",
   "id": "445b748f",
   "metadata": {},
   "source": [
    "#### Now we can see that \"city\" column doesn't contain any missing values"
   ]
  },
  {
   "cell_type": "markdown",
   "id": "2c600d9a",
   "metadata": {},
   "source": [
    "### Deals with winner and player of match column"
   ]
  },
  {
   "cell_type": "code",
   "execution_count": 14,
   "id": "49c20389",
   "metadata": {},
   "outputs": [
    {
     "data": {
      "text/html": [
       "<div>\n",
       "<style scoped>\n",
       "    .dataframe tbody tr th:only-of-type {\n",
       "        vertical-align: middle;\n",
       "    }\n",
       "\n",
       "    .dataframe tbody tr th {\n",
       "        vertical-align: top;\n",
       "    }\n",
       "\n",
       "    .dataframe thead th {\n",
       "        text-align: right;\n",
       "    }\n",
       "</style>\n",
       "<table border=\"1\" class=\"dataframe\">\n",
       "  <thead>\n",
       "    <tr style=\"text-align: right;\">\n",
       "      <th></th>\n",
       "      <th>id</th>\n",
       "      <th>season</th>\n",
       "      <th>city</th>\n",
       "      <th>date</th>\n",
       "      <th>team1</th>\n",
       "      <th>team2</th>\n",
       "      <th>toss_winner</th>\n",
       "      <th>toss_decision</th>\n",
       "      <th>result</th>\n",
       "      <th>dl_applied</th>\n",
       "      <th>winner</th>\n",
       "      <th>win_by_runs</th>\n",
       "      <th>win_by_wickets</th>\n",
       "      <th>player_of_match</th>\n",
       "      <th>venue</th>\n",
       "      <th>umpire1</th>\n",
       "    </tr>\n",
       "  </thead>\n",
       "  <tbody>\n",
       "    <tr>\n",
       "      <th>300</th>\n",
       "      <td>301</td>\n",
       "      <td>2011</td>\n",
       "      <td>Delhi</td>\n",
       "      <td>2011-05-21</td>\n",
       "      <td>Delhi Daredevils</td>\n",
       "      <td>Pune Warriors</td>\n",
       "      <td>Delhi Daredevils</td>\n",
       "      <td>bat</td>\n",
       "      <td>no result</td>\n",
       "      <td>0</td>\n",
       "      <td>NaN</td>\n",
       "      <td>0</td>\n",
       "      <td>0</td>\n",
       "      <td>NaN</td>\n",
       "      <td>Feroz Shah Kotla</td>\n",
       "      <td>SS Hazare</td>\n",
       "    </tr>\n",
       "    <tr>\n",
       "      <th>545</th>\n",
       "      <td>546</td>\n",
       "      <td>2015</td>\n",
       "      <td>Bangalore</td>\n",
       "      <td>2015-04-29</td>\n",
       "      <td>Royal Challengers Bangalore</td>\n",
       "      <td>Rajasthan Royals</td>\n",
       "      <td>Rajasthan Royals</td>\n",
       "      <td>field</td>\n",
       "      <td>no result</td>\n",
       "      <td>0</td>\n",
       "      <td>NaN</td>\n",
       "      <td>0</td>\n",
       "      <td>0</td>\n",
       "      <td>NaN</td>\n",
       "      <td>M Chinnaswamy Stadium</td>\n",
       "      <td>JD Cloete</td>\n",
       "    </tr>\n",
       "    <tr>\n",
       "      <th>570</th>\n",
       "      <td>571</td>\n",
       "      <td>2015</td>\n",
       "      <td>Bangalore</td>\n",
       "      <td>2015-05-17</td>\n",
       "      <td>Delhi Daredevils</td>\n",
       "      <td>Royal Challengers Bangalore</td>\n",
       "      <td>Royal Challengers Bangalore</td>\n",
       "      <td>field</td>\n",
       "      <td>no result</td>\n",
       "      <td>0</td>\n",
       "      <td>NaN</td>\n",
       "      <td>0</td>\n",
       "      <td>0</td>\n",
       "      <td>NaN</td>\n",
       "      <td>M Chinnaswamy Stadium</td>\n",
       "      <td>HDPK Dharmasena</td>\n",
       "    </tr>\n",
       "    <tr>\n",
       "      <th>744</th>\n",
       "      <td>11340</td>\n",
       "      <td>2019</td>\n",
       "      <td>Bengaluru</td>\n",
       "      <td>30/04/19</td>\n",
       "      <td>Royal Challengers Bangalore</td>\n",
       "      <td>Rajasthan Royals</td>\n",
       "      <td>Rajasthan Royals</td>\n",
       "      <td>field</td>\n",
       "      <td>no result</td>\n",
       "      <td>0</td>\n",
       "      <td>NaN</td>\n",
       "      <td>0</td>\n",
       "      <td>0</td>\n",
       "      <td>NaN</td>\n",
       "      <td>M. Chinnaswamy Stadium</td>\n",
       "      <td>Nigel Llong</td>\n",
       "    </tr>\n",
       "  </tbody>\n",
       "</table>\n",
       "</div>"
      ],
      "text/plain": [
       "        id  season       city        date                        team1  \\\n",
       "300    301    2011      Delhi  2011-05-21             Delhi Daredevils   \n",
       "545    546    2015  Bangalore  2015-04-29  Royal Challengers Bangalore   \n",
       "570    571    2015  Bangalore  2015-05-17             Delhi Daredevils   \n",
       "744  11340    2019  Bengaluru    30/04/19  Royal Challengers Bangalore   \n",
       "\n",
       "                           team2                  toss_winner toss_decision  \\\n",
       "300                Pune Warriors             Delhi Daredevils           bat   \n",
       "545             Rajasthan Royals             Rajasthan Royals         field   \n",
       "570  Royal Challengers Bangalore  Royal Challengers Bangalore         field   \n",
       "744             Rajasthan Royals             Rajasthan Royals         field   \n",
       "\n",
       "        result  dl_applied winner  win_by_runs  win_by_wickets  \\\n",
       "300  no result           0    NaN            0               0   \n",
       "545  no result           0    NaN            0               0   \n",
       "570  no result           0    NaN            0               0   \n",
       "744  no result           0    NaN            0               0   \n",
       "\n",
       "    player_of_match                   venue          umpire1  \n",
       "300             NaN        Feroz Shah Kotla        SS Hazare  \n",
       "545             NaN   M Chinnaswamy Stadium        JD Cloete  \n",
       "570             NaN   M Chinnaswamy Stadium  HDPK Dharmasena  \n",
       "744             NaN  M. Chinnaswamy Stadium      Nigel Llong  "
      ]
     },
     "execution_count": 14,
     "metadata": {},
     "output_type": "execute_result"
    }
   ],
   "source": [
    "df_matches[df_matches.winner.isnull()]"
   ]
  },
  {
   "cell_type": "code",
   "execution_count": 15,
   "id": "cbfd1f6f",
   "metadata": {},
   "outputs": [
    {
     "data": {
      "text/html": [
       "<div>\n",
       "<style scoped>\n",
       "    .dataframe tbody tr th:only-of-type {\n",
       "        vertical-align: middle;\n",
       "    }\n",
       "\n",
       "    .dataframe tbody tr th {\n",
       "        vertical-align: top;\n",
       "    }\n",
       "\n",
       "    .dataframe thead th {\n",
       "        text-align: right;\n",
       "    }\n",
       "</style>\n",
       "<table border=\"1\" class=\"dataframe\">\n",
       "  <thead>\n",
       "    <tr style=\"text-align: right;\">\n",
       "      <th></th>\n",
       "      <th>result</th>\n",
       "      <th>winner</th>\n",
       "      <th>player_of_match</th>\n",
       "    </tr>\n",
       "  </thead>\n",
       "  <tbody>\n",
       "    <tr>\n",
       "      <th>300</th>\n",
       "      <td>no result</td>\n",
       "      <td>NaN</td>\n",
       "      <td>NaN</td>\n",
       "    </tr>\n",
       "    <tr>\n",
       "      <th>545</th>\n",
       "      <td>no result</td>\n",
       "      <td>NaN</td>\n",
       "      <td>NaN</td>\n",
       "    </tr>\n",
       "    <tr>\n",
       "      <th>570</th>\n",
       "      <td>no result</td>\n",
       "      <td>NaN</td>\n",
       "      <td>NaN</td>\n",
       "    </tr>\n",
       "    <tr>\n",
       "      <th>744</th>\n",
       "      <td>no result</td>\n",
       "      <td>NaN</td>\n",
       "      <td>NaN</td>\n",
       "    </tr>\n",
       "  </tbody>\n",
       "</table>\n",
       "</div>"
      ],
      "text/plain": [
       "        result winner player_of_match\n",
       "300  no result    NaN             NaN\n",
       "545  no result    NaN             NaN\n",
       "570  no result    NaN             NaN\n",
       "744  no result    NaN             NaN"
      ]
     },
     "execution_count": 15,
     "metadata": {},
     "output_type": "execute_result"
    }
   ],
   "source": [
    "df_matches[df_matches.winner.isnull()][['result','winner','player_of_match']]"
   ]
  },
  {
   "cell_type": "markdown",
   "id": "0cbcc510",
   "metadata": {},
   "source": [
    "#### We can see that missing values at column \"winner\" and \"player of match\" corresponds to the \"result\" column of match, So we don't need to remove this."
   ]
  },
  {
   "cell_type": "markdown",
   "id": "bffc66b6",
   "metadata": {},
   "source": [
    "### Data pre-processing on second dataset"
   ]
  },
  {
   "cell_type": "code",
   "execution_count": 16,
   "id": "5f5c8dd1",
   "metadata": {},
   "outputs": [
    {
     "data": {
      "text/html": [
       "<div>\n",
       "<style scoped>\n",
       "    .dataframe tbody tr th:only-of-type {\n",
       "        vertical-align: middle;\n",
       "    }\n",
       "\n",
       "    .dataframe tbody tr th {\n",
       "        vertical-align: top;\n",
       "    }\n",
       "\n",
       "    .dataframe thead th {\n",
       "        text-align: right;\n",
       "    }\n",
       "</style>\n",
       "<table border=\"1\" class=\"dataframe\">\n",
       "  <thead>\n",
       "    <tr style=\"text-align: right;\">\n",
       "      <th></th>\n",
       "      <th>match_id</th>\n",
       "      <th>inning</th>\n",
       "      <th>batting_team</th>\n",
       "      <th>bowling_team</th>\n",
       "      <th>over</th>\n",
       "      <th>ball</th>\n",
       "      <th>batsman</th>\n",
       "      <th>non_striker</th>\n",
       "      <th>bowler</th>\n",
       "      <th>is_super_over</th>\n",
       "      <th>...</th>\n",
       "      <th>bye_runs</th>\n",
       "      <th>legbye_runs</th>\n",
       "      <th>noball_runs</th>\n",
       "      <th>penalty_runs</th>\n",
       "      <th>batsman_runs</th>\n",
       "      <th>extra_runs</th>\n",
       "      <th>total_runs</th>\n",
       "      <th>player_dismissed</th>\n",
       "      <th>dismissal_kind</th>\n",
       "      <th>fielder</th>\n",
       "    </tr>\n",
       "  </thead>\n",
       "  <tbody>\n",
       "    <tr>\n",
       "      <th>0</th>\n",
       "      <td>1</td>\n",
       "      <td>1</td>\n",
       "      <td>Sunrisers Hyderabad</td>\n",
       "      <td>Royal Challengers Bangalore</td>\n",
       "      <td>1</td>\n",
       "      <td>1</td>\n",
       "      <td>DA Warner</td>\n",
       "      <td>S Dhawan</td>\n",
       "      <td>TS Mills</td>\n",
       "      <td>0</td>\n",
       "      <td>...</td>\n",
       "      <td>0</td>\n",
       "      <td>0</td>\n",
       "      <td>0</td>\n",
       "      <td>0</td>\n",
       "      <td>0</td>\n",
       "      <td>0</td>\n",
       "      <td>0</td>\n",
       "      <td>NaN</td>\n",
       "      <td>NaN</td>\n",
       "      <td>NaN</td>\n",
       "    </tr>\n",
       "    <tr>\n",
       "      <th>1</th>\n",
       "      <td>1</td>\n",
       "      <td>1</td>\n",
       "      <td>Sunrisers Hyderabad</td>\n",
       "      <td>Royal Challengers Bangalore</td>\n",
       "      <td>1</td>\n",
       "      <td>2</td>\n",
       "      <td>DA Warner</td>\n",
       "      <td>S Dhawan</td>\n",
       "      <td>TS Mills</td>\n",
       "      <td>0</td>\n",
       "      <td>...</td>\n",
       "      <td>0</td>\n",
       "      <td>0</td>\n",
       "      <td>0</td>\n",
       "      <td>0</td>\n",
       "      <td>0</td>\n",
       "      <td>0</td>\n",
       "      <td>0</td>\n",
       "      <td>NaN</td>\n",
       "      <td>NaN</td>\n",
       "      <td>NaN</td>\n",
       "    </tr>\n",
       "    <tr>\n",
       "      <th>2</th>\n",
       "      <td>1</td>\n",
       "      <td>1</td>\n",
       "      <td>Sunrisers Hyderabad</td>\n",
       "      <td>Royal Challengers Bangalore</td>\n",
       "      <td>1</td>\n",
       "      <td>3</td>\n",
       "      <td>DA Warner</td>\n",
       "      <td>S Dhawan</td>\n",
       "      <td>TS Mills</td>\n",
       "      <td>0</td>\n",
       "      <td>...</td>\n",
       "      <td>0</td>\n",
       "      <td>0</td>\n",
       "      <td>0</td>\n",
       "      <td>0</td>\n",
       "      <td>4</td>\n",
       "      <td>0</td>\n",
       "      <td>4</td>\n",
       "      <td>NaN</td>\n",
       "      <td>NaN</td>\n",
       "      <td>NaN</td>\n",
       "    </tr>\n",
       "    <tr>\n",
       "      <th>3</th>\n",
       "      <td>1</td>\n",
       "      <td>1</td>\n",
       "      <td>Sunrisers Hyderabad</td>\n",
       "      <td>Royal Challengers Bangalore</td>\n",
       "      <td>1</td>\n",
       "      <td>4</td>\n",
       "      <td>DA Warner</td>\n",
       "      <td>S Dhawan</td>\n",
       "      <td>TS Mills</td>\n",
       "      <td>0</td>\n",
       "      <td>...</td>\n",
       "      <td>0</td>\n",
       "      <td>0</td>\n",
       "      <td>0</td>\n",
       "      <td>0</td>\n",
       "      <td>0</td>\n",
       "      <td>0</td>\n",
       "      <td>0</td>\n",
       "      <td>NaN</td>\n",
       "      <td>NaN</td>\n",
       "      <td>NaN</td>\n",
       "    </tr>\n",
       "    <tr>\n",
       "      <th>4</th>\n",
       "      <td>1</td>\n",
       "      <td>1</td>\n",
       "      <td>Sunrisers Hyderabad</td>\n",
       "      <td>Royal Challengers Bangalore</td>\n",
       "      <td>1</td>\n",
       "      <td>5</td>\n",
       "      <td>DA Warner</td>\n",
       "      <td>S Dhawan</td>\n",
       "      <td>TS Mills</td>\n",
       "      <td>0</td>\n",
       "      <td>...</td>\n",
       "      <td>0</td>\n",
       "      <td>0</td>\n",
       "      <td>0</td>\n",
       "      <td>0</td>\n",
       "      <td>0</td>\n",
       "      <td>2</td>\n",
       "      <td>2</td>\n",
       "      <td>NaN</td>\n",
       "      <td>NaN</td>\n",
       "      <td>NaN</td>\n",
       "    </tr>\n",
       "  </tbody>\n",
       "</table>\n",
       "<p>5 rows × 21 columns</p>\n",
       "</div>"
      ],
      "text/plain": [
       "   match_id  inning         batting_team                 bowling_team  over  \\\n",
       "0         1       1  Sunrisers Hyderabad  Royal Challengers Bangalore     1   \n",
       "1         1       1  Sunrisers Hyderabad  Royal Challengers Bangalore     1   \n",
       "2         1       1  Sunrisers Hyderabad  Royal Challengers Bangalore     1   \n",
       "3         1       1  Sunrisers Hyderabad  Royal Challengers Bangalore     1   \n",
       "4         1       1  Sunrisers Hyderabad  Royal Challengers Bangalore     1   \n",
       "\n",
       "   ball    batsman non_striker    bowler  is_super_over  ...  bye_runs  \\\n",
       "0     1  DA Warner    S Dhawan  TS Mills              0  ...         0   \n",
       "1     2  DA Warner    S Dhawan  TS Mills              0  ...         0   \n",
       "2     3  DA Warner    S Dhawan  TS Mills              0  ...         0   \n",
       "3     4  DA Warner    S Dhawan  TS Mills              0  ...         0   \n",
       "4     5  DA Warner    S Dhawan  TS Mills              0  ...         0   \n",
       "\n",
       "   legbye_runs  noball_runs  penalty_runs  batsman_runs  extra_runs  \\\n",
       "0            0            0             0             0           0   \n",
       "1            0            0             0             0           0   \n",
       "2            0            0             0             4           0   \n",
       "3            0            0             0             0           0   \n",
       "4            0            0             0             0           2   \n",
       "\n",
       "   total_runs  player_dismissed dismissal_kind fielder  \n",
       "0           0               NaN            NaN     NaN  \n",
       "1           0               NaN            NaN     NaN  \n",
       "2           4               NaN            NaN     NaN  \n",
       "3           0               NaN            NaN     NaN  \n",
       "4           2               NaN            NaN     NaN  \n",
       "\n",
       "[5 rows x 21 columns]"
      ]
     },
     "execution_count": 16,
     "metadata": {},
     "output_type": "execute_result"
    }
   ],
   "source": [
    "df_deliveries.head()"
   ]
  },
  {
   "cell_type": "code",
   "execution_count": 17,
   "id": "321821f9",
   "metadata": {},
   "outputs": [
    {
     "data": {
      "text/plain": [
       "(179078, 21)"
      ]
     },
     "execution_count": 17,
     "metadata": {},
     "output_type": "execute_result"
    }
   ],
   "source": [
    "df_deliveries.shape"
   ]
  },
  {
   "cell_type": "markdown",
   "id": "8bf36e3b",
   "metadata": {},
   "source": [
    "#### This dataset contains 179078 deliveries data with 21 attributes"
   ]
  },
  {
   "cell_type": "code",
   "execution_count": 18,
   "id": "06384948",
   "metadata": {},
   "outputs": [
    {
     "data": {
      "text/plain": [
       "Index(['match_id', 'inning', 'batting_team', 'bowling_team', 'over', 'ball',\n",
       "       'batsman', 'non_striker', 'bowler', 'is_super_over', 'wide_runs',\n",
       "       'bye_runs', 'legbye_runs', 'noball_runs', 'penalty_runs',\n",
       "       'batsman_runs', 'extra_runs', 'total_runs', 'player_dismissed',\n",
       "       'dismissal_kind', 'fielder'],\n",
       "      dtype='object')"
      ]
     },
     "execution_count": 18,
     "metadata": {},
     "output_type": "execute_result"
    }
   ],
   "source": [
    "df_deliveries.columns"
   ]
  },
  {
   "cell_type": "markdown",
   "id": "3742da30",
   "metadata": {},
   "source": [
    "### Checking the info of this dataset"
   ]
  },
  {
   "cell_type": "code",
   "execution_count": 19,
   "id": "891d6bd4",
   "metadata": {},
   "outputs": [
    {
     "name": "stdout",
     "output_type": "stream",
     "text": [
      "<class 'pandas.core.frame.DataFrame'>\n",
      "RangeIndex: 179078 entries, 0 to 179077\n",
      "Data columns (total 21 columns):\n",
      " #   Column            Non-Null Count   Dtype \n",
      "---  ------            --------------   ----- \n",
      " 0   match_id          179078 non-null  int64 \n",
      " 1   inning            179078 non-null  int64 \n",
      " 2   batting_team      179078 non-null  object\n",
      " 3   bowling_team      179078 non-null  object\n",
      " 4   over              179078 non-null  int64 \n",
      " 5   ball              179078 non-null  int64 \n",
      " 6   batsman           179078 non-null  object\n",
      " 7   non_striker       179078 non-null  object\n",
      " 8   bowler            179078 non-null  object\n",
      " 9   is_super_over     179078 non-null  int64 \n",
      " 10  wide_runs         179078 non-null  int64 \n",
      " 11  bye_runs          179078 non-null  int64 \n",
      " 12  legbye_runs       179078 non-null  int64 \n",
      " 13  noball_runs       179078 non-null  int64 \n",
      " 14  penalty_runs      179078 non-null  int64 \n",
      " 15  batsman_runs      179078 non-null  int64 \n",
      " 16  extra_runs        179078 non-null  int64 \n",
      " 17  total_runs        179078 non-null  int64 \n",
      " 18  player_dismissed  8834 non-null    object\n",
      " 19  dismissal_kind    8834 non-null    object\n",
      " 20  fielder           6448 non-null    object\n",
      "dtypes: int64(13), object(8)\n",
      "memory usage: 28.7+ MB\n"
     ]
    }
   ],
   "source": [
    "df_deliveries.info()"
   ]
  },
  {
   "cell_type": "markdown",
   "id": "871cd161",
   "metadata": {},
   "source": [
    "#### Here the last three columns contains a lot of Missing values that are justified as this dataset consists of every delivery and a player can't be dismissed on every ball when the player is not out on any given ball then these column must be Missing and same with the dismissal kind column and fielder column because this fielder column corresponds to the player_dismissed & dismissal kind column and fielder column contains more Missing values than the other 2 columns because a fielder can't be involve in every dismissal (eg. Bowled, hit wicket etc.)"
   ]
  },
  {
   "cell_type": "markdown",
   "id": "0152813e",
   "metadata": {},
   "source": [
    "## CATEGORY 1 - ANALYSIS OF IPL TEAMS"
   ]
  },
  {
   "cell_type": "code",
   "execution_count": 20,
   "id": "e55e9e83",
   "metadata": {
    "scrolled": false
   },
   "outputs": [
    {
     "data": {
      "text/plain": [
       "Mumbai Indians                 109\n",
       "Chennai Super Kings            100\n",
       "Kolkata Knight Riders           92\n",
       "Royal Challengers Bangalore     84\n",
       "Kings XI Punjab                 82\n",
       "Rajasthan Royals                75\n",
       "Delhi Daredevils                67\n",
       "Sunrisers Hyderabad             58\n",
       "Deccan Chargers                 29\n",
       "Gujarat Lions                   13\n",
       "Pune Warriors                   12\n",
       "Rising Pune Supergiant          10\n",
       "Delhi Capitals                  10\n",
       "Kochi Tuskers Kerala             6\n",
       "Rising Pune Supergiants          5\n",
       "Name: winner, dtype: int64"
      ]
     },
     "execution_count": 20,
     "metadata": {},
     "output_type": "execute_result"
    }
   ],
   "source": [
    "teams=df_matches['winner'].value_counts()\n",
    "teams"
   ]
  },
  {
   "cell_type": "markdown",
   "id": "9bf72c6b",
   "metadata": {},
   "source": [
    "#### We can see that a team \"Rising Pune Supergiant\" repeated twice due to spelling change so first correct this "
   ]
  },
  {
   "cell_type": "code",
   "execution_count": 21,
   "id": "ff80fadf",
   "metadata": {},
   "outputs": [],
   "source": [
    "df_matches['winner'].replace(to_replace='Rising Pune Supergiant', value='Rising Pune Supergiants',inplace=True)"
   ]
  },
  {
   "cell_type": "code",
   "execution_count": 22,
   "id": "750d4335",
   "metadata": {},
   "outputs": [
    {
     "data": {
      "text/plain": [
       "14"
      ]
     },
     "execution_count": 22,
     "metadata": {},
     "output_type": "execute_result"
    }
   ],
   "source": [
    "teams=df_matches['winner'].value_counts()\n",
    "len(teams)"
   ]
  },
  {
   "cell_type": "markdown",
   "id": "f4ffe435",
   "metadata": {},
   "source": [
    "#### There are 14 Teams participated in ipl so far"
   ]
  },
  {
   "cell_type": "markdown",
   "id": "5fe1e56c",
   "metadata": {},
   "source": [
    "### Teams with most number of wins"
   ]
  },
  {
   "cell_type": "code",
   "execution_count": 23,
   "id": "5d59546d",
   "metadata": {
    "scrolled": true
   },
   "outputs": [
    {
     "data": {
      "text/plain": [
       "<matplotlib.legend.Legend at 0x1cdaf1fe940>"
      ]
     },
     "execution_count": 23,
     "metadata": {},
     "output_type": "execute_result"
    },
    {
     "data": {
      "image/png": "[encoded data removed]",
      "text/plain": [
       "<Figure size 720x360 with 1 Axes>"
      ]
     },
     "metadata": {
      "needs_background": "light"
     },
     "output_type": "display_data"
    }
   ],
   "source": [
    "data = []\n",
    "\n",
    "for i in df_matches['winner'].unique():\n",
    "    data.append([i , len(df_matches[df_matches['winner'] ==i])])\n",
    "pd.DataFrame(data,columns = ['Teams','match_wins']).sort_values(by='match_wins', ascending=False).plot(x = \"Teams\", y = \"match_wins\", title='Teams With Most Number Of Wins',kind = 'bar',color='orange' ,figsize = (10,5))\n",
    "plt.style.use('dark_background')\n",
    "plt.legend()"
   ]
  },
  {
   "cell_type": "markdown",
   "id": "3a688597",
   "metadata": {},
   "source": [
    "#### Mumbai Indians won most number of matches (109) followed by Chennai Super Kings (100) and Kolkata Knight Riders(92)"
   ]
  },
  {
   "cell_type": "markdown",
   "id": "c3f4cf8b",
   "metadata": {},
   "source": [
    "### Team won by maximum runs"
   ]
  },
  {
   "cell_type": "code",
   "execution_count": 24,
   "id": "d3e76eba",
   "metadata": {},
   "outputs": [
    {
     "data": {
      "text/plain": [
       "146"
      ]
     },
     "execution_count": 24,
     "metadata": {},
     "output_type": "execute_result"
    }
   ],
   "source": [
    "df_matches['win_by_runs'].max()"
   ]
  },
  {
   "cell_type": "markdown",
   "id": "26ada882",
   "metadata": {},
   "source": [
    "#### 146 runs is the maximum run by which a team won\n",
    "### Let's check this match info"
   ]
  },
  {
   "cell_type": "code",
   "execution_count": 25,
   "id": "37c9cbd9",
   "metadata": {},
   "outputs": [
    {
     "data": {
      "text/plain": [
       "id                               44\n",
       "season                         2017\n",
       "city                          Delhi\n",
       "date                     2017-05-06\n",
       "team1                Mumbai Indians\n",
       "team2              Delhi Daredevils\n",
       "toss_winner        Delhi Daredevils\n",
       "toss_decision                 field\n",
       "result                       normal\n",
       "dl_applied                        0\n",
       "winner               Mumbai Indians\n",
       "win_by_runs                     146\n",
       "win_by_wickets                    0\n",
       "player_of_match         LMP Simmons\n",
       "venue              Feroz Shah Kotla\n",
       "umpire1                 Nitin Menon\n",
       "Name: 43, dtype: object"
      ]
     },
     "execution_count": 25,
     "metadata": {},
     "output_type": "execute_result"
    }
   ],
   "source": [
    "df_matches.iloc[df_matches['win_by_runs'].idxmax()]"
   ]
  },
  {
   "cell_type": "markdown",
   "id": "7fa98092",
   "metadata": {},
   "source": [
    "#### This Match was played between Mumbai Indians & Delhi Daredevils on 6th May 2017 at Venue Feroz Shah Kotla Stadium, Delhi and Player of the match was LMP Simmons"
   ]
  },
  {
   "cell_type": "markdown",
   "id": "0f20b5d2",
   "metadata": {},
   "source": [
    "### Team won by maximum wickets"
   ]
  },
  {
   "cell_type": "code",
   "execution_count": 26,
   "id": "99845e02",
   "metadata": {},
   "outputs": [
    {
     "data": {
      "text/plain": [
       "10"
      ]
     },
     "execution_count": 26,
     "metadata": {},
     "output_type": "execute_result"
    }
   ],
   "source": [
    "df_matches['win_by_wickets'].max()"
   ]
  },
  {
   "cell_type": "markdown",
   "id": "35703001",
   "metadata": {},
   "source": [
    "#### 10 wickets win is maximum win by wickets\n",
    "### Let's check the info of this match"
   ]
  },
  {
   "cell_type": "code",
   "execution_count": 27,
   "id": "9bf9c5aa",
   "metadata": {},
   "outputs": [
    {
     "data": {
      "text/plain": [
       "id                                                      3\n",
       "season                                               2017\n",
       "city                                               Rajkot\n",
       "date                                           2017-04-07\n",
       "team1                                       Gujarat Lions\n",
       "team2                               Kolkata Knight Riders\n",
       "toss_winner                         Kolkata Knight Riders\n",
       "toss_decision                                       field\n",
       "result                                             normal\n",
       "dl_applied                                              0\n",
       "winner                              Kolkata Knight Riders\n",
       "win_by_runs                                             0\n",
       "win_by_wickets                                         10\n",
       "player_of_match                                   CA Lynn\n",
       "venue              Saurashtra Cricket Association Stadium\n",
       "umpire1                                       Nitin Menon\n",
       "Name: 2, dtype: object"
      ]
     },
     "execution_count": 27,
     "metadata": {},
     "output_type": "execute_result"
    }
   ],
   "source": [
    "df_matches.iloc[df_matches['win_by_wickets'].idxmax()]"
   ]
  },
  {
   "cell_type": "markdown",
   "id": "67ae3ca4",
   "metadata": {},
   "source": [
    "####  This Match was played between Gujarat Lions & Kolkata Knight Riders on 6th May 2017 at Venue  Saurashtra Cricket Association Stadium and Player of the match was CA Lynn"
   ]
  },
  {
   "cell_type": "markdown",
   "id": "57956d4b",
   "metadata": {},
   "source": [
    "### Team with most number of title"
   ]
  },
  {
   "cell_type": "code",
   "execution_count": 28,
   "id": "53c2bdef",
   "metadata": {},
   "outputs": [],
   "source": [
    "#Creating a new dataframe\n",
    "winners=df_matches[['season','winner']]"
   ]
  },
  {
   "cell_type": "code",
   "execution_count": 29,
   "id": "6efe42a5",
   "metadata": {},
   "outputs": [
    {
     "data": {
      "text/html": [
       "<div>\n",
       "<style scoped>\n",
       "    .dataframe tbody tr th:only-of-type {\n",
       "        vertical-align: middle;\n",
       "    }\n",
       "\n",
       "    .dataframe tbody tr th {\n",
       "        vertical-align: top;\n",
       "    }\n",
       "\n",
       "    .dataframe thead th {\n",
       "        text-align: right;\n",
       "    }\n",
       "</style>\n",
       "<table border=\"1\" class=\"dataframe\">\n",
       "  <thead>\n",
       "    <tr style=\"text-align: right;\">\n",
       "      <th></th>\n",
       "      <th>season_winner</th>\n",
       "    </tr>\n",
       "  </thead>\n",
       "  <tbody>\n",
       "    <tr>\n",
       "      <th>2008</th>\n",
       "      <td>Rajasthan Royals</td>\n",
       "    </tr>\n",
       "    <tr>\n",
       "      <th>2009</th>\n",
       "      <td>Deccan Chargers</td>\n",
       "    </tr>\n",
       "    <tr>\n",
       "      <th>2010</th>\n",
       "      <td>Chennai Super Kings</td>\n",
       "    </tr>\n",
       "    <tr>\n",
       "      <th>2011</th>\n",
       "      <td>Chennai Super Kings</td>\n",
       "    </tr>\n",
       "    <tr>\n",
       "      <th>2012</th>\n",
       "      <td>Kolkata Knight Riders</td>\n",
       "    </tr>\n",
       "    <tr>\n",
       "      <th>2013</th>\n",
       "      <td>Mumbai Indians</td>\n",
       "    </tr>\n",
       "    <tr>\n",
       "      <th>2014</th>\n",
       "      <td>Kolkata Knight Riders</td>\n",
       "    </tr>\n",
       "    <tr>\n",
       "      <th>2015</th>\n",
       "      <td>Mumbai Indians</td>\n",
       "    </tr>\n",
       "    <tr>\n",
       "      <th>2016</th>\n",
       "      <td>Sunrisers Hyderabad</td>\n",
       "    </tr>\n",
       "    <tr>\n",
       "      <th>2017</th>\n",
       "      <td>Mumbai Indians</td>\n",
       "    </tr>\n",
       "    <tr>\n",
       "      <th>2018</th>\n",
       "      <td>Chennai Super Kings</td>\n",
       "    </tr>\n",
       "    <tr>\n",
       "      <th>2019</th>\n",
       "      <td>Mumbai Indians</td>\n",
       "    </tr>\n",
       "  </tbody>\n",
       "</table>\n",
       "</div>"
      ],
      "text/plain": [
       "              season_winner\n",
       "2008       Rajasthan Royals\n",
       "2009        Deccan Chargers\n",
       "2010    Chennai Super Kings\n",
       "2011    Chennai Super Kings\n",
       "2012  Kolkata Knight Riders\n",
       "2013         Mumbai Indians\n",
       "2014  Kolkata Knight Riders\n",
       "2015         Mumbai Indians\n",
       "2016    Sunrisers Hyderabad\n",
       "2017         Mumbai Indians\n",
       "2018    Chennai Super Kings\n",
       "2019         Mumbai Indians"
      ]
     },
     "execution_count": 29,
     "metadata": {},
     "output_type": "execute_result"
    }
   ],
   "source": [
    "#Creating a empty dictionary for storing team name with most number of title\n",
    "data = { }\n",
    "for i in sorted(winners.season.unique()):\n",
    "    data[i]=winners[winners.season==i]['winner'].tail(1).values[0]\n",
    "\n",
    "season_winner=pd.Series(data)\n",
    "#Creating the final dataframe\n",
    "season_winner=pd.DataFrame(season_winner,columns=['season_winner'])\n",
    "season_winner\n",
    "    \n",
    "\n"
   ]
  },
  {
   "cell_type": "code",
   "execution_count": 30,
   "id": "1ed85c84",
   "metadata": {
    "scrolled": false
   },
   "outputs": [
    {
     "data": {
      "text/plain": [
       "Mumbai Indians           4\n",
       "Chennai Super Kings      3\n",
       "Kolkata Knight Riders    2\n",
       "Rajasthan Royals         1\n",
       "Sunrisers Hyderabad      1\n",
       "Deccan Chargers          1\n",
       "Name: season_winner, dtype: int64"
      ]
     },
     "execution_count": 30,
     "metadata": {},
     "output_type": "execute_result"
    }
   ],
   "source": [
    "season_winner=season_winner['season_winner'].value_counts()\n",
    "season_winner\n"
   ]
  },
  {
   "cell_type": "code",
   "execution_count": 31,
   "id": "67ae6cea",
   "metadata": {
    "scrolled": true
   },
   "outputs": [
    {
     "data": {
      "text/plain": [
       "<matplotlib.legend.Legend at 0x1cdafbda4f0>"
      ]
     },
     "execution_count": 31,
     "metadata": {},
     "output_type": "execute_result"
    },
    {
     "data": {
      "image/png": "[encoded data removed]",
      "text/plain": [
       "<Figure size 720x360 with 1 Axes>"
      ]
     },
     "metadata": {},
     "output_type": "display_data"
    }
   ],
   "source": [
    "season_winner.plot.bar(xlabel='Teams',ylabel='Number of Title',title='Teams With Most Titles',color='yellow',figsize=(10,5))\n",
    "plt.style.use('dark_background')\n",
    "plt.legend()"
   ]
  },
  {
   "cell_type": "markdown",
   "id": "ac6ef4c6",
   "metadata": {},
   "source": [
    "#### Mumbai Indians is most succesful IPL Team with 4 IPL Titles followed by Chennai Super Kings(3 IPL Titles) and Kolkata Knight Riders(2 IPL Titles). These are also the Top 3 team who won maximum number of matches in IPL"
   ]
  },
  {
   "cell_type": "markdown",
   "id": "343fccbd",
   "metadata": {},
   "source": [
    "### Toss impact on team wins"
   ]
  },
  {
   "cell_type": "code",
   "execution_count": 32,
   "id": "0e1ce696",
   "metadata": {
    "scrolled": true
   },
   "outputs": [
    {
     "data": {
      "text/plain": [
       "Mumbai Indians                 98\n",
       "Kolkata Knight Riders          92\n",
       "Chennai Super Kings            89\n",
       "Royal Challengers Bangalore    81\n",
       "Kings XI Punjab                81\n",
       "Delhi Daredevils               80\n",
       "Rajasthan Royals               80\n",
       "Sunrisers Hyderabad            46\n",
       "Deccan Chargers                43\n",
       "Pune Warriors                  20\n",
       "Gujarat Lions                  15\n",
       "Delhi Capitals                 10\n",
       "Kochi Tuskers Kerala            8\n",
       "Rising Pune Supergiants         7\n",
       "Rising Pune Supergiant          6\n",
       "Name: toss_winner, dtype: int64"
      ]
     },
     "execution_count": 32,
     "metadata": {},
     "output_type": "execute_result"
    }
   ],
   "source": [
    "most_toss_win=df_matches['toss_winner'].value_counts()\n",
    "most_toss_win"
   ]
  },
  {
   "cell_type": "markdown",
   "id": "0f6042d7",
   "metadata": {},
   "source": [
    "#### We can see that Rising Pune Supergiants apperared twice due to spelling mistake, let's fix this"
   ]
  },
  {
   "cell_type": "code",
   "execution_count": 33,
   "id": "d74c5465",
   "metadata": {
    "scrolled": true
   },
   "outputs": [],
   "source": [
    "df_matches['toss_winner'].replace(to_replace='Rising Pune Supergiant',value='Rising Pune Supergiants',inplace=True)\n",
    "df_matches['winner'].replace(to_replace='Rising Pune Supergiant',value='Rising Pune Supergiants',inplace=True)"
   ]
  },
  {
   "cell_type": "code",
   "execution_count": 34,
   "id": "cc4698ca",
   "metadata": {},
   "outputs": [
    {
     "data": {
      "text/plain": [
       "Mumbai Indians                 98\n",
       "Kolkata Knight Riders          92\n",
       "Chennai Super Kings            89\n",
       "Royal Challengers Bangalore    81\n",
       "Kings XI Punjab                81\n",
       "Delhi Daredevils               80\n",
       "Rajasthan Royals               80\n",
       "Sunrisers Hyderabad            46\n",
       "Deccan Chargers                43\n",
       "Pune Warriors                  20\n",
       "Gujarat Lions                  15\n",
       "Rising Pune Supergiants        13\n",
       "Delhi Capitals                 10\n",
       "Kochi Tuskers Kerala            8\n",
       "Name: toss_winner, dtype: int64"
      ]
     },
     "execution_count": 34,
     "metadata": {},
     "output_type": "execute_result"
    }
   ],
   "source": [
    "most_toss_win=df_matches['toss_winner'].value_counts()\n",
    "most_toss_win"
   ]
  },
  {
   "cell_type": "code",
   "execution_count": 35,
   "id": "8587cad9",
   "metadata": {},
   "outputs": [
    {
     "data": {
      "text/plain": [
       "<matplotlib.legend.Legend at 0x1cdafc54640>"
      ]
     },
     "execution_count": 35,
     "metadata": {},
     "output_type": "execute_result"
    },
    {
     "data": {
      "image/png": "[encoded data removed]",
      "text/plain": [
       "<Figure size 720x360 with 1 Axes>"
      ]
     },
     "metadata": {},
     "output_type": "display_data"
    }
   ],
   "source": [
    "most_toss_win.plot.bar(xlabel='Teams',ylabel='Number Of Tosses',title='Toss impact on team wins',color='green',figsize=(10,5))\n",
    "plt.style.use('dark_background')\n",
    "plt.legend()"
   ]
  },
  {
   "cell_type": "markdown",
   "id": "53ab2f1d",
   "metadata": {},
   "source": [
    "#### We can infer from this the winning the toss impacts on match winner as top 3 most succeful teams (Mumbai Indians,Kolkata Knight Riders & Chennai Super Kings) of ipl also won most number of tosses\n",
    "\n",
    "### Toss decision by teams"
   ]
  },
  {
   "cell_type": "code",
   "execution_count": 36,
   "id": "d82d6eaf",
   "metadata": {},
   "outputs": [],
   "source": [
    "toss_decision=df_matches['toss_decision'].value_counts()"
   ]
  },
  {
   "cell_type": "code",
   "execution_count": 37,
   "id": "193836da",
   "metadata": {},
   "outputs": [
    {
     "data": {
      "text/plain": [
       "field    463\n",
       "bat      293\n",
       "Name: toss_decision, dtype: int64"
      ]
     },
     "execution_count": 37,
     "metadata": {},
     "output_type": "execute_result"
    }
   ],
   "source": [
    "toss_decision"
   ]
  },
  {
   "cell_type": "code",
   "execution_count": 38,
   "id": "4bd08d77",
   "metadata": {},
   "outputs": [
    {
     "data": {
      "text/plain": [
       "<matplotlib.legend.Legend at 0x1cdafe5a4f0>"
      ]
     },
     "execution_count": 38,
     "metadata": {},
     "output_type": "execute_result"
    },
    {
     "data": {
      "image/png": "[encoded data removed]",
      "text/plain": [
       "<Figure size 720x360 with 1 Axes>"
      ]
     },
     "metadata": {},
     "output_type": "display_data"
    }
   ],
   "source": [
    "toss_decision.plot.bar(ylabel='%Count Of Toss Selection',title='Toss Selection By Teams',color='purple',figsize=(10,5))\n",
    "plt.style.use('dark_background')\n",
    "plt.legend()"
   ]
  },
  {
   "cell_type": "markdown",
   "id": "02c9d600",
   "metadata": {},
   "source": [
    "#### From this analysis we can infer that most of time teams preferred field first when they won the toss\n",
    "### Teams winning by batting first\n"
   ]
  },
  {
   "cell_type": "code",
   "execution_count": 39,
   "id": "34683845",
   "metadata": {
    "scrolled": false
   },
   "outputs": [
    {
     "data": {
      "text/plain": [
       "Mumbai Indians                 57\n",
       "Chennai Super Kings            52\n",
       "Kings XI Punjab                38\n",
       "Kolkata Knight Riders          36\n",
       "Royal Challengers Bangalore    35\n",
       "Sunrisers Hyderabad            30\n",
       "Rajasthan Royals               27\n",
       "Delhi Daredevils               25\n",
       "Deccan Chargers                18\n",
       "Rising Pune Supergiants         7\n",
       "Pune Warriors                   6\n",
       "Delhi Capitals                  3\n",
       "Kochi Tuskers Kerala            2\n",
       "Gujarat Lions                   1\n",
       "Name: winner, dtype: int64"
      ]
     },
     "execution_count": 39,
     "metadata": {},
     "output_type": "execute_result"
    }
   ],
   "source": [
    "most_win_batting_first=df_matches.winner[df_matches.win_by_runs!=0].value_counts()\n",
    "most_win_batting_first\n",
    "\n"
   ]
  },
  {
   "cell_type": "code",
   "execution_count": 40,
   "id": "59275f35",
   "metadata": {
    "scrolled": true
   },
   "outputs": [
    {
     "data": {
      "text/plain": [
       "<matplotlib.legend.Legend at 0x1cdaffcf0a0>"
      ]
     },
     "execution_count": 40,
     "metadata": {},
     "output_type": "execute_result"
    },
    {
     "data": {
      "image/png": "[encoded data removed]",
      "text/plain": [
       "<Figure size 720x360 with 1 Axes>"
      ]
     },
     "metadata": {},
     "output_type": "display_data"
    }
   ],
   "source": [
    "most_win_batting_first.plot.bar(xlabel='Teams',title='Teams With Maximum Wins While Batting First',color='red',figsize=(10,5))\n",
    "plt.style.use('dark_background')\n",
    "plt.legend()"
   ]
  },
  {
   "cell_type": "markdown",
   "id": "68eca5c1",
   "metadata": {},
   "source": [
    "#### We can see that Mumbai Indians registered most wins while batting first as compared to other teams, so from this analysis we can also say that Mumbai Indians is the best team while defending the score\n",
    "\n",
    "### Teams winning by batting second"
   ]
  },
  {
   "cell_type": "code",
   "execution_count": 41,
   "id": "8e797c11",
   "metadata": {},
   "outputs": [
    {
     "data": {
      "text/plain": [
       "Kolkata Knight Riders          56\n",
       "Mumbai Indians                 50\n",
       "Chennai Super Kings            48\n",
       "Royal Challengers Bangalore    48\n",
       "Rajasthan Royals               46\n",
       "Kings XI Punjab                42\n",
       "Delhi Daredevils               42\n",
       "Sunrisers Hyderabad            27\n",
       "Gujarat Lions                  12\n",
       "Deccan Chargers                11\n",
       "Rising Pune Supergiants         8\n",
       "Pune Warriors                   6\n",
       "Delhi Capitals                  6\n",
       "Kochi Tuskers Kerala            4\n",
       "Name: winner, dtype: int64"
      ]
     },
     "execution_count": 41,
     "metadata": {},
     "output_type": "execute_result"
    }
   ],
   "source": [
    "most_win_batting_second=df_matches.winner[df_matches.win_by_wickets!=0].value_counts()\n",
    "most_win_batting_second"
   ]
  },
  {
   "cell_type": "code",
   "execution_count": 42,
   "id": "877a6deb",
   "metadata": {},
   "outputs": [
    {
     "data": {
      "text/plain": [
       "<matplotlib.legend.Legend at 0x1cdb00539a0>"
      ]
     },
     "execution_count": 42,
     "metadata": {},
     "output_type": "execute_result"
    },
    {
     "data": {
      "image/png": "[encoded data removed]",
      "text/plain": [
       "<Figure size 720x360 with 1 Axes>"
      ]
     },
     "metadata": {},
     "output_type": "display_data"
    }
   ],
   "source": [
    "most_win_batting_second.plot.bar(xlabel='Teams',title='Teams With Maximum Wins While Batting second',color='brown',figsize=(10,5))\n",
    "plt.style.use('dark_background')\n",
    "plt.legend()"
   ]
  },
  {
   "cell_type": "markdown",
   "id": "6f6db7d9",
   "metadata": {},
   "source": [
    "#### We can see that Kolkata Knight Riders registered most wins while batting second as compared to other teams, so from this analysis We can also say that Kolkata Knight Riders is the best team when chasing the target\n",
    "\n",
    "### Category 1 (Analysis Of IPL Teams) - Key Insights:\n",
    "\n",
    "#### • Total 14 teams participated in IPL over 11 Years(2008-2019) out of which only 6 teams managed to win the IPL Title\n",
    "#### • Mumbai Indians is the most Successful team In the IPL history (with most number of IPL titles (4) and most number of match wins(109) followed by Chennai Super Kings (with 3 IPL titles and second most wins in IPL(100) and Kolkata Knight Rider(with 2 IPL titles and third most number of wins (92)\n",
    "#### • from the toss analysis we can Infer that the Top 3 most successful teams also won maximum number of tosses and the teams who won the toss preffered to Field first \n",
    "#### • Mumbai Indians is the most successful team while defending the target\n",
    "#### • Kolkata Knight Riders is the most successful team while chasing the target\n",
    "\n",
    "## CATEGORY 2 - ANALYSIS OF IPL PLAYERS\n",
    "### Most player of the match award"
   ]
  },
  {
   "cell_type": "code",
   "execution_count": 43,
   "id": "7018bf39",
   "metadata": {},
   "outputs": [],
   "source": [
    "most_player_of_match=df_matches['player_of_match'].value_counts()[0:11]"
   ]
  },
  {
   "cell_type": "code",
   "execution_count": 44,
   "id": "dd345afa",
   "metadata": {},
   "outputs": [
    {
     "data": {
      "text/plain": [
       "CH Gayle          21\n",
       "AB de Villiers    20\n",
       "MS Dhoni          17\n",
       "DA Warner         17\n",
       "RG Sharma         17\n",
       "YK Pathan         16\n",
       "SR Watson         15\n",
       "SK Raina          14\n",
       "G Gambhir         13\n",
       "AM Rahane         12\n",
       "MEK Hussey        12\n",
       "Name: player_of_match, dtype: int64"
      ]
     },
     "execution_count": 44,
     "metadata": {},
     "output_type": "execute_result"
    }
   ],
   "source": [
    "most_player_of_match"
   ]
  },
  {
   "cell_type": "code",
   "execution_count": 45,
   "id": "d92e99bf",
   "metadata": {
    "scrolled": false
   },
   "outputs": [
    {
     "data": {
      "text/plain": [
       "<matplotlib.legend.Legend at 0x1cdb01e9e50>"
      ]
     },
     "execution_count": 45,
     "metadata": {},
     "output_type": "execute_result"
    },
    {
     "data": {
      "image/png": "[encoded data removed]",
      "text/plain": [
       "<Figure size 720x360 with 1 Axes>"
      ]
     },
     "metadata": {},
     "output_type": "display_data"
    }
   ],
   "source": [
    "most_player_of_match.plot.bar(xlabel='Players',ylabel='Number Of Awards',title='Top 10 Players By Most Player Of Matches Awards ',color='olivedrab',figsize=(10,5))\n",
    "plt.style.use('dark_background')\n",
    "plt.legend()"
   ]
  },
  {
   "cell_type": "markdown",
   "id": "80f11f9f",
   "metadata": {},
   "source": [
    "#### We can see that CH Gayle got awarded with player of match the most ( 21 times ) followed by AB de Villiers ( 20 times ) and from this analysis we can infer that CH Gayle is the most valuable player to his team followed by AB de Villiers"
   ]
  },
  {
   "cell_type": "markdown",
   "id": "3dca6c05",
   "metadata": {},
   "source": [
    "### No. of players that batted for atleast one bowl in IPL so far"
   ]
  },
  {
   "cell_type": "code",
   "execution_count": 46,
   "id": "83b3e4db",
   "metadata": {},
   "outputs": [
    {
     "data": {
      "text/plain": [
       "516"
      ]
     },
     "execution_count": 46,
     "metadata": {},
     "output_type": "execute_result"
    }
   ],
   "source": [
    "batters=len(df_deliveries['batsman'].unique())\n",
    "batters"
   ]
  },
  {
   "cell_type": "markdown",
   "id": "27a11c0f",
   "metadata": {},
   "source": [
    "### No. of players that bowls for atleast one bowl in IPL so far"
   ]
  },
  {
   "cell_type": "code",
   "execution_count": 47,
   "id": "1f28becf",
   "metadata": {},
   "outputs": [
    {
     "data": {
      "text/plain": [
       "405"
      ]
     },
     "execution_count": 47,
     "metadata": {},
     "output_type": "execute_result"
    }
   ],
   "source": [
    "bowlers=len(df_deliveries['bowler'].unique())\n",
    "bowlers"
   ]
  },
  {
   "cell_type": "markdown",
   "id": "a7563dce",
   "metadata": {},
   "source": [
    "### Most delivaries played by batsman"
   ]
  },
  {
   "cell_type": "code",
   "execution_count": 48,
   "id": "0936c83b",
   "metadata": {
    "scrolled": true
   },
   "outputs": [
    {
     "data": {
      "text/plain": [
       "V Kohli       4211\n",
       "SK Raina      4044\n",
       "RG Sharma     3816\n",
       "S Dhawan      3776\n",
       "G Gambhir     3524\n",
       "RV Uthappa    3492\n",
       "DA Warner     3398\n",
       "MS Dhoni      3318\n",
       "AM Rahane     3215\n",
       "CH Gayle      3131\n",
       "Name: batsman, dtype: int64"
      ]
     },
     "execution_count": 48,
     "metadata": {},
     "output_type": "execute_result"
    }
   ],
   "source": [
    "played_most_deliveries=df_deliveries['batsman'].value_counts()[0:10]\n",
    "played_most_deliveries\n"
   ]
  },
  {
   "cell_type": "code",
   "execution_count": 49,
   "id": "de254f0b",
   "metadata": {},
   "outputs": [
    {
     "data": {
      "text/plain": [
       "<AxesSubplot:title={'center':'Batsman who faced most number of balls'}, xlabel='Players', ylabel='Total number of deliveries'>"
      ]
     },
     "execution_count": 49,
     "metadata": {},
     "output_type": "execute_result"
    },
    {
     "data": {
      "image/png": "[encoded data removed]",
      "text/plain": [
       "<Figure size 720x360 with 1 Axes>"
      ]
     },
     "metadata": {},
     "output_type": "display_data"
    }
   ],
   "source": [
    "played_most_deliveries.plot.bar(xlabel='Players',ylabel='Total number of deliveries',title='Batsman who faced most number of balls',color='goldenrod',figsize=(10,5))"
   ]
  },
  {
   "cell_type": "markdown",
   "id": "4ab55c07",
   "metadata": {},
   "source": [
    "#### Virat Kohli played most number of balls in the IPL history"
   ]
  },
  {
   "cell_type": "markdown",
   "id": "cdfb6d4c",
   "metadata": {},
   "source": [
    "### Bowler with most deliveries"
   ]
  },
  {
   "cell_type": "code",
   "execution_count": 50,
   "id": "db268997",
   "metadata": {
    "scrolled": true
   },
   "outputs": [
    {
     "data": {
      "text/plain": [
       "Harbhajan Singh    3451\n",
       "A Mishra           3172\n",
       "PP Chawla          3157\n",
       "R Ashwin           3016\n",
       "SL Malinga         2974\n",
       "DJ Bravo           2711\n",
       "B Kumar            2707\n",
       "P Kumar            2637\n",
       "UT Yadav           2605\n",
       "SP Narine          2600\n",
       "Name: bowler, dtype: int64"
      ]
     },
     "execution_count": 50,
     "metadata": {},
     "output_type": "execute_result"
    }
   ],
   "source": [
    "bowl_most_deliveries=df_deliveries['bowler'].value_counts()[0:10]\n",
    "bowl_most_deliveries\n"
   ]
  },
  {
   "cell_type": "code",
   "execution_count": 51,
   "id": "c23b79b0",
   "metadata": {},
   "outputs": [
    {
     "data": {
      "text/plain": [
       "<AxesSubplot:title={'center':'Bowler with most deliveries'}, xlabel='Players', ylabel='Total number of deliveries'>"
      ]
     },
     "execution_count": 51,
     "metadata": {},
     "output_type": "execute_result"
    },
    {
     "data": {
      "image/png": "[encoded data removed]",
      "text/plain": [
       "<Figure size 720x360 with 1 Axes>"
      ]
     },
     "metadata": {},
     "output_type": "display_data"
    }
   ],
   "source": [
    "bowl_most_deliveries.plot.bar(xlabel='Players',ylabel='Total number of deliveries',title='Bowler with most deliveries',color='orange',figsize=(10,5))"
   ]
  },
  {
   "cell_type": "markdown",
   "id": "41ade1aa",
   "metadata": {},
   "source": [
    "#### Harbhajan Singh bowled most balls in IPL history so far"
   ]
  },
  {
   "cell_type": "markdown",
   "id": "5c90dbca",
   "metadata": {},
   "source": [
    "### Top 10 players with most runs in IPL history"
   ]
  },
  {
   "cell_type": "code",
   "execution_count": 52,
   "id": "553b56db",
   "metadata": {
    "scrolled": false
   },
   "outputs": [
    {
     "data": {
      "text/plain": [
       "batsman\n",
       "V Kohli           5434\n",
       "SK Raina          5415\n",
       "RG Sharma         4914\n",
       "DA Warner         4741\n",
       "S Dhawan          4632\n",
       "CH Gayle          4560\n",
       "MS Dhoni          4477\n",
       "RV Uthappa        4446\n",
       "AB de Villiers    4428\n",
       "G Gambhir         4223\n",
       "Name: batsman_runs, dtype: int64"
      ]
     },
     "execution_count": 52,
     "metadata": {},
     "output_type": "execute_result"
    }
   ],
   "source": [
    "top_run_getter=df_deliveries.groupby('batsman')['batsman_runs'].sum().sort_values(ascending=False)[0:10]\n",
    "top_run_getter"
   ]
  },
  {
   "cell_type": "code",
   "execution_count": 53,
   "id": "6361ab52",
   "metadata": {},
   "outputs": [
    {
     "data": {
      "text/plain": [
       "<matplotlib.legend.Legend at 0x1cdb0432be0>"
      ]
     },
     "execution_count": 53,
     "metadata": {},
     "output_type": "execute_result"
    },
    {
     "data": {
      "image/png": "[encoded data removed]",
      "text/plain": [
       "<Figure size 720x360 with 1 Axes>"
      ]
     },
     "metadata": {},
     "output_type": "display_data"
    }
   ],
   "source": [
    "top_run_getter.plot.bar(xlabel='Batsman',ylabel='Total number of runs',title='Top Runs Getter',color='mediumorchid',figsize=(10,5))\n",
    "plt.style.use('dark_background')\n",
    "plt.legend()"
   ]
  },
  {
   "cell_type": "markdown",
   "id": "437b957b",
   "metadata": {},
   "source": [
    "#### We can see that Virat Kohli is the top run scorerwith 5434 runs, followed by Suresh Raina with 5415 runs and Rohit Sharma with 4914 runs and from this we can also infer that Indian batsman dominate the top scorer list\n",
    "#### Now compare these top 3 run scorer batting performance by runs per season"
   ]
  },
  {
   "cell_type": "markdown",
   "id": "8d6eb98b",
   "metadata": {},
   "source": [
    "### Comparison of top 3 run scorer per IPL season\n",
    "#### 1. Virat Kohli\n",
    "#### 2. Suresh Raina\n",
    "#### 3. Rohit Sharma\n",
    "#### For this comparison we need to merge two dataset"
   ]
  },
  {
   "cell_type": "code",
   "execution_count": 54,
   "id": "503dd315",
   "metadata": {},
   "outputs": [],
   "source": [
    "df=pd.merge(df_matches,df_deliveries,left_on='id',right_on='match_id')"
   ]
  },
  {
   "cell_type": "markdown",
   "id": "713ba0e9",
   "metadata": {},
   "source": [
    "#### Virat Kohli runs per season"
   ]
  },
  {
   "cell_type": "code",
   "execution_count": 55,
   "id": "1d2ae9d9",
   "metadata": {
    "scrolled": true
   },
   "outputs": [
    {
     "data": {
      "text/plain": [
       "season\n",
       "2008    165\n",
       "2009    246\n",
       "2010    307\n",
       "2011    557\n",
       "2012    364\n",
       "2013    639\n",
       "2014    359\n",
       "2015    505\n",
       "2016    973\n",
       "2017    308\n",
       "2018    539\n",
       "2019    472\n",
       "Name: batsman_runs, dtype: int64"
      ]
     },
     "execution_count": 55,
     "metadata": {},
     "output_type": "execute_result"
    }
   ],
   "source": [
    "vKohli=df[df['batsman']=='V Kohli']\n",
    "vKohli=vKohli.groupby('season')['batsman_runs'].sum()\n",
    "vKohli"
   ]
  },
  {
   "cell_type": "markdown",
   "id": "39de7545",
   "metadata": {},
   "source": [
    "#### Suresh Raina runs per season"
   ]
  },
  {
   "cell_type": "code",
   "execution_count": 56,
   "id": "0b7cb2da",
   "metadata": {
    "scrolled": true
   },
   "outputs": [
    {
     "data": {
      "text/plain": [
       "season\n",
       "2008    421\n",
       "2009    434\n",
       "2010    528\n",
       "2011    438\n",
       "2012    441\n",
       "2013    548\n",
       "2014    523\n",
       "2015    374\n",
       "2016    399\n",
       "2017    442\n",
       "2018    466\n",
       "2019    401\n",
       "Name: batsman_runs, dtype: int64"
      ]
     },
     "execution_count": 56,
     "metadata": {},
     "output_type": "execute_result"
    }
   ],
   "source": [
    "raina=df[df['batsman']=='SK Raina']\n",
    "raina=raina.groupby('season')['batsman_runs'].sum()\n",
    "raina"
   ]
  },
  {
   "cell_type": "markdown",
   "id": "6d49161c",
   "metadata": {},
   "source": [
    "#### Rohit Sharma runs per season"
   ]
  },
  {
   "cell_type": "code",
   "execution_count": 57,
   "id": "35f4bad2",
   "metadata": {},
   "outputs": [
    {
     "data": {
      "text/plain": [
       "season\n",
       "2008    404\n",
       "2009    362\n",
       "2010    404\n",
       "2011    372\n",
       "2012    433\n",
       "2013    538\n",
       "2014    390\n",
       "2015    482\n",
       "2016    489\n",
       "2017    333\n",
       "2018    297\n",
       "2019    410\n",
       "Name: batsman_runs, dtype: int64"
      ]
     },
     "execution_count": 57,
     "metadata": {},
     "output_type": "execute_result"
    }
   ],
   "source": [
    "sharma=df[df['batsman']=='RG Sharma']\n",
    "sharma=sharma.groupby('season')['batsman_runs'].sum()\n",
    "sharma"
   ]
  },
  {
   "cell_type": "markdown",
   "id": "fd997fbf",
   "metadata": {},
   "source": [
    "#### Plotting a line chart to compaire their performance"
   ]
  },
  {
   "cell_type": "code",
   "execution_count": 58,
   "id": "9179a0f8",
   "metadata": {
    "scrolled": false
   },
   "outputs": [
    {
     "data": {
      "text/plain": [
       "<matplotlib.legend.Legend at 0x1cdb06c5d00>"
      ]
     },
     "execution_count": 58,
     "metadata": {},
     "output_type": "execute_result"
    },
    {
     "data": {
      "image/png": "[encoded data removed]",
      "text/plain": [
       "<Figure size 720x360 with 1 Axes>"
      ]
     },
     "metadata": {},
     "output_type": "display_data"
    }
   ],
   "source": [
    "vKohli.plot.line(xlabel='Season',ylabel='Total number of runs',title='Comparision Between Top Runs Getter',color='orange',figsize=(10,5),label='Virat Kohli')\n",
    "raina.plot.line(color='red',figsize=(10,5),label='Suresh Raina')\n",
    "sharma.plot.line(color='blue',figsize=(10,5),label='Rohit Sharma')\n",
    "plt.style.use('dark_background')\n",
    "plt.legend()"
   ]
  },
  {
   "cell_type": "markdown",
   "id": "d17ba9c3",
   "metadata": {},
   "source": [
    "#### From This We can Infer That\n",
    "#### • Suresh Raina is the most consistent player in the IPL history\n",
    "#### •  Rohit Sharma is also consistent but not as consistent as Suresh Raina\n",
    "#### •  Virat Kohli didn't started his career well in IPL. We can see there are sharp rise & decline of runs trend in alternate seasons and as we can see a shape rise in Virat Kohli runs in 2016 season that means his most succesful season was 2016 where we performed exceptionally well, also Virat Kohli is least consistent among the three players\n",
    "\n",
    "\n",
    "\n"
   ]
  },
  {
   "cell_type": "markdown",
   "id": "1ba75447",
   "metadata": {},
   "source": [
    "### Extra runs"
   ]
  },
  {
   "cell_type": "code",
   "execution_count": 59,
   "id": "f11963d4",
   "metadata": {},
   "outputs": [
    {
     "data": {
      "text/plain": [
       "bowler\n",
       "SL Malinga         293\n",
       "P Kumar            236\n",
       "UT Yadav           219\n",
       "DJ Bravo           201\n",
       "B Kumar            197\n",
       "I Sharma           194\n",
       "RP Singh           181\n",
       "DW Steyn           171\n",
       "SR Watson          171\n",
       "Harbhajan Singh    170\n",
       "Name: extra_runs, dtype: int64"
      ]
     },
     "execution_count": 59,
     "metadata": {},
     "output_type": "execute_result"
    }
   ],
   "source": [
    "extra_runs=df_deliveries.groupby('bowler')['extra_runs'].sum().sort_values(ascending=False)[0:10]\n",
    "extra_runs"
   ]
  },
  {
   "cell_type": "code",
   "execution_count": 60,
   "id": "93b53862",
   "metadata": {},
   "outputs": [
    {
     "data": {
      "text/plain": [
       "<matplotlib.legend.Legend at 0x1cdb05414f0>"
      ]
     },
     "execution_count": 60,
     "metadata": {},
     "output_type": "execute_result"
    },
    {
     "data": {
      "image/png": "[encoded data removed]",
      "text/plain": [
       "<Figure size 720x360 with 1 Axes>"
      ]
     },
     "metadata": {},
     "output_type": "display_data"
    }
   ],
   "source": [
    "extra_runs.plot.bar(xlabel='Bowler Name',ylabel='extra runs',title='Plyers who conceded most extra runs',color='rosybrown',figsize=(10,5))\n",
    "extra_runs\n",
    "plt.style.use('dark_background')\n",
    "plt.legend()"
   ]
  },
  {
   "cell_type": "markdown",
   "id": "521f179f",
   "metadata": {},
   "source": [
    "#### SL Malinga conceded the most extra runs in the history of IPL"
   ]
  },
  {
   "cell_type": "markdown",
   "id": "6458c721",
   "metadata": {},
   "source": [
    "### Which bowler dissmissed which batsman the most"
   ]
  },
  {
   "cell_type": "code",
   "execution_count": 61,
   "id": "c37cbe4b",
   "metadata": {},
   "outputs": [
    {
     "data": {
      "text/plain": [
       "bowler         player_dismissed\n",
       "Z Khan         MS Dhoni            7\n",
       "PP Ojha        MS Dhoni            7\n",
       "SP Narine      RG Sharma           6\n",
       "B Kumar        PA Patel            6\n",
       "               AM Rahane           6\n",
       "R Ashwin       RV Uthappa          6\n",
       "A Mishra       RG Sharma           6\n",
       "PP Chawla      AT Rayudu           6\n",
       "Z Khan         G Gambhir           6\n",
       "R Vinay Kumar  RG Sharma           6\n",
       "Name: player_dismissed, dtype: int64"
      ]
     },
     "execution_count": 61,
     "metadata": {},
     "output_type": "execute_result"
    }
   ],
   "source": [
    "bowl_out=df_deliveries.groupby('bowler')['player_dismissed'].value_counts().sort_values(ascending=False)[0:10]\n",
    "bowl_out"
   ]
  },
  {
   "cell_type": "code",
   "execution_count": 62,
   "id": "5dde4ed2",
   "metadata": {},
   "outputs": [
    {
     "data": {
      "text/plain": [
       "<matplotlib.legend.Legend at 0x1cdb0762d30>"
      ]
     },
     "execution_count": 62,
     "metadata": {},
     "output_type": "execute_result"
    },
    {
     "data": {
      "image/png": "[encoded data removed]",
      "text/plain": [
       "<Figure size 720x360 with 1 Axes>"
      ]
     },
     "metadata": {},
     "output_type": "display_data"
    }
   ],
   "source": [
    "bowl_out.plot.bar(xlabel='Player Dismissed',ylabel='Count',title='Player dismissed total number of times',color='pink',figsize=(10,5))\n",
    "bowl_out\n",
    "plt.style.use('dark_background')\n",
    "plt.legend()\n"
   ]
  },
  {
   "cell_type": "markdown",
   "id": "74dc20d9",
   "metadata": {},
   "source": [
    "#### from this analysis we can infer that M.S.Dhoni can't play well against Zaheer Khan and Pragyan Ojha as they dismissed him the most number of times (7) followed by Rohit Sharma 6 times dismissal by 3 Bowlers each (Vinay Kumar, A Mishra & SP Narine)"
   ]
  },
  {
   "cell_type": "markdown",
   "id": "908c9152",
   "metadata": {},
   "source": [
    "### Players who got dismissed most number of times"
   ]
  },
  {
   "cell_type": "code",
   "execution_count": 63,
   "id": "d968a2f9",
   "metadata": {
    "scrolled": true
   },
   "outputs": [
    {
     "data": {
      "text/plain": [
       "SK Raina      162\n",
       "RG Sharma     155\n",
       "RV Uthappa    153\n",
       "V Kohli       143\n",
       "S Dhawan      137\n",
       "G Gambhir     136\n",
       "KD Karthik    135\n",
       "PA Patel      126\n",
       "AM Rahane     116\n",
       "SR Watson     115\n",
       "Name: player_dismissed, dtype: int64"
      ]
     },
     "execution_count": 63,
     "metadata": {},
     "output_type": "execute_result"
    }
   ],
   "source": [
    "got_dismissed=df_deliveries['player_dismissed'].value_counts()[0:10]\n",
    "got_dismissed"
   ]
  },
  {
   "cell_type": "code",
   "execution_count": 64,
   "id": "c9fa3bad",
   "metadata": {
    "scrolled": true
   },
   "outputs": [
    {
     "data": {
      "text/plain": [
       "<matplotlib.legend.Legend at 0x1cdb082b730>"
      ]
     },
     "execution_count": 64,
     "metadata": {},
     "output_type": "execute_result"
    },
    {
     "data": {
      "image/png": "[encoded data removed]",
      "text/plain": [
       "<Figure size 720x360 with 1 Axes>"
      ]
     },
     "metadata": {},
     "output_type": "display_data"
    }
   ],
   "source": [
    "got_dismissed.plot.bar(xlabel='Players',ylabel='Count',title='Players who got dismissed most number of times',color='green',figsize=(10,5))\n",
    "got_dismissed\n",
    "plt.style.use('dark_background')\n",
    "plt.legend()"
   ]
  },
  {
   "cell_type": "markdown",
   "id": "904c8af8",
   "metadata": {},
   "source": [
    "#### SK Raina got out (162) times which is most in the IPL history, followed by RG Sharma(155) and RV Uthappa (153)"
   ]
  },
  {
   "cell_type": "code",
   "execution_count": 65,
   "id": "a61a780f",
   "metadata": {
    "scrolled": true
   },
   "outputs": [
    {
     "name": "stdout",
     "output_type": "stream",
     "text": [
      "             bowler  No. of dot balls\n",
      "59  Harbhajan Singh              1244\n",
      "58       SL Malinga              1144\n",
      "8           B Kumar              1116\n",
      "50         A Mishra              1108\n",
      "27        PP Chawla              1100\n"
     ]
    },
    {
     "data": {
      "text/plain": [
       "<AxesSubplot:title={'center':'Bowler with most number of dot balls'}, xlabel='bowler'>"
      ]
     },
     "execution_count": 65,
     "metadata": {},
     "output_type": "execute_result"
    },
    {
     "data": {
      "image/png": "[encoded data removed]",
      "text/plain": [
       "<Figure size 720x360 with 1 Axes>"
      ]
     },
     "metadata": {},
     "output_type": "display_data"
    }
   ],
   "source": [
    "data = []\n",
    "\n",
    "for i in df['bowler'].unique():\n",
    "    data.append([i, len(df_deliveries[(df_deliveries['bowler'] == i) & (df_deliveries['total_runs'] == 0)])])\n",
    "\n",
    "plot_data = pd.DataFrame(data,columns = ['bowler','No. of dot balls']).sort_values(by='No. of dot balls', ascending=False).head()\n",
    "print(plot_data)\n",
    "plot_data.plot(x = 'bowler', y = 'No. of dot balls', kind = 'bar', title='Bowler with most number of dot balls',figsize = (10,5), color = 'darkslategrey')"
   ]
  },
  {
   "cell_type": "markdown",
   "id": "6114016b",
   "metadata": {},
   "source": [
    "#### Harbhajan Singh hold the records for most dot balls (1244) in the IPL history. We can also see that out of 5 bowlers with most dot balls three of times are spinners, So we can infer that spinners are ahead in terms of dot balls."
   ]
  },
  {
   "cell_type": "markdown",
   "id": "2ea6d183",
   "metadata": {},
   "source": [
    "### Top 10 players involve in most dismissal"
   ]
  },
  {
   "cell_type": "code",
   "execution_count": 66,
   "id": "60691512",
   "metadata": {
    "scrolled": false
   },
   "outputs": [
    {
     "data": {
      "text/plain": [
       "MS Dhoni          159\n",
       "KD Karthik        152\n",
       "RV Uthappa        125\n",
       "SK Raina          115\n",
       "AB de Villiers    114\n",
       "PA Patel           97\n",
       "RG Sharma          92\n",
       "V Kohli            90\n",
       "KA Pollard         85\n",
       "WP Saha            82\n",
       "Name: fielder, dtype: int64"
      ]
     },
     "execution_count": 66,
     "metadata": {},
     "output_type": "execute_result"
    }
   ],
   "source": [
    "most_dismissal_by_player=df_deliveries['fielder'].value_counts()[0:10]\n",
    "most_dismissal_by_player"
   ]
  },
  {
   "cell_type": "code",
   "execution_count": 67,
   "id": "3d5758c3",
   "metadata": {},
   "outputs": [
    {
     "data": {
      "text/plain": [
       "<matplotlib.legend.Legend at 0x1cdb0731dc0>"
      ]
     },
     "execution_count": 67,
     "metadata": {},
     "output_type": "execute_result"
    },
    {
     "data": {
      "image/png": "[encoded data removed]",
      "text/plain": [
       "<Figure size 720x360 with 1 Axes>"
      ]
     },
     "metadata": {},
     "output_type": "display_data"
    }
   ],
   "source": [
    "most_dismissal_by_player.plot.bar(xlabel='Players',ylabel='Count',title='Players involve in most dismissals as fielders',color='maroon',figsize=(10,5))\n",
    "most_dismissal_by_player\n",
    "plt.style.use('dark_background')\n",
    "plt.legend()\n"
   ]
  },
  {
   "cell_type": "markdown",
   "id": "86debbdc",
   "metadata": {},
   "source": [
    "#### MS Dhoni Involve in the most number of dismissal (159) ss fielders followed by KD Karthik(152) and RV Utappa(125) number of dismissal\n",
    "\n",
    "### Category 2(Analysis Of IPL Players) - Key Insights :\n",
    "\n",
    "#### • Top 15 Players by most runs category are dominated by the Indians and Virat Kohli is on Top with 5434 Runs followed By Suresh Raina (With 5415 Runs) and Rohit Sharma (with 4914 runs)\n",
    "\n",
    "#### • From Top 3 Players(Run wise) analysis we can Infer that Suresh Raina is the most consistent player than Virat Kohli and Rohit Sharma\n",
    "\n",
    "#### • Most player of the match awards are won by the big hitter with Chris Gayle at top with 21 Player of match award follwed by ABD vilers(With 20 Player of Match Awards) and from this analysis we can say that they are also the most valuable players to their respective teams over the years\n",
    "\n",
    "#### • Harbhajan Singh bowled the most deliveries in IPL while Virat Kohli faced most deliveries as a Batsman.\n",
    "\n",
    "#### • Harbhajan Singh holds the record for most dot balls in IPL So far\n",
    "\n",
    "#### • Lasith Malinga conceded most extra runs in IPL so far\n",
    "\n",
    "## CATEGORY 3 - ANALYSIS OF IPL MATCHES\n",
    "### Top 10 venue details which hosted the most number of matches"
   ]
  },
  {
   "cell_type": "code",
   "execution_count": 68,
   "id": "bfa38cd7",
   "metadata": {
    "scrolled": false
   },
   "outputs": [
    {
     "data": {
      "text/plain": [
       "venue                                       city      \n",
       "Eden Gardens                                Kolkata       77\n",
       "Wankhede Stadium                            Mumbai        73\n",
       "Feroz Shah Kotla                            Delhi         67\n",
       "M Chinnaswamy Stadium                       Bangalore     66\n",
       "Rajiv Gandhi International Stadium, Uppal   Hyderabad     56\n",
       "MA Chidambaram Stadium, Chepauk             Chennai       49\n",
       "Sawai Mansingh Stadium                      Jaipur        47\n",
       "Punjab Cricket Association Stadium, Mohali  Chandigarh    35\n",
       "Maharashtra Cricket Association Stadium     Pune          21\n",
       "Dr DY Patil Sports Academy                  Mumbai        17\n",
       "Name: city, dtype: int64"
      ]
     },
     "execution_count": 68,
     "metadata": {},
     "output_type": "execute_result"
    }
   ],
   "source": [
    "venue_city=df_matches.groupby('venue')['city'].value_counts().sort_values(ascending=False)[0:10]\n",
    "venue_city"
   ]
  },
  {
   "cell_type": "code",
   "execution_count": 69,
   "id": "5e67715b",
   "metadata": {},
   "outputs": [
    {
     "data": {
      "text/plain": [
       "<AxesSubplot:title={'center':'Venue detailes which hosted the most number of matches'}, ylabel='venue'>"
      ]
     },
     "execution_count": 69,
     "metadata": {},
     "output_type": "execute_result"
    },
    {
     "data": {
      "image/png": "[encoded data removed]",
      "text/plain": [
       "<Figure size 720x360 with 1 Axes>"
      ]
     },
     "metadata": {},
     "output_type": "display_data"
    }
   ],
   "source": [
    "venue_city.plot.barh(xlabel='venue',ylabel='Counts',title='Venue detailes which hosted the most number of matches',color='yellow',figsize=(10,5))\n"
   ]
  },
  {
   "cell_type": "markdown",
   "id": "7f96ab7a",
   "metadata": {},
   "source": [
    "#### Eden Garden Stadium of kolkata holds the record for hosting the most number of matches\n",
    "### Season wise number of matches"
   ]
  },
  {
   "cell_type": "code",
   "execution_count": 70,
   "id": "4a5b027e",
   "metadata": {},
   "outputs": [
    {
     "data": {
      "text/plain": [
       "2013    76\n",
       "2012    74\n",
       "2011    73\n",
       "2010    60\n",
       "2014    60\n",
       "2016    60\n",
       "2018    60\n",
       "2019    60\n",
       "2015    59\n",
       "2017    59\n",
       "2008    58\n",
       "2009    57\n",
       "Name: season, dtype: int64"
      ]
     },
     "execution_count": 70,
     "metadata": {},
     "output_type": "execute_result"
    }
   ],
   "source": [
    "season_wise_matches=df_matches['season'].value_counts()\n",
    "season_wise_matches"
   ]
  },
  {
   "cell_type": "code",
   "execution_count": 71,
   "id": "590019eb",
   "metadata": {
    "scrolled": true
   },
   "outputs": [
    {
     "data": {
      "text/plain": [
       "<matplotlib.legend.Legend at 0x1cdb0c727c0>"
      ]
     },
     "execution_count": 71,
     "metadata": {},
     "output_type": "execute_result"
    },
    {
     "data": {
      "image/png": "[encoded data removed]",
      "text/plain": [
       "<Figure size 720x360 with 1 Axes>"
      ]
     },
     "metadata": {},
     "output_type": "display_data"
    }
   ],
   "source": [
    "season_wise_matches.plot.bar(xlabel='season',ylabel='Counts',title='Season wise total matches',color='brown',figsize=(10,5))\n",
    "plt.style.use('dark_background')\n",
    "plt.legend()"
   ]
  },
  {
   "cell_type": "markdown",
   "id": "19cbd571",
   "metadata": {},
   "source": [
    "### Match result"
   ]
  },
  {
   "cell_type": "code",
   "execution_count": 72,
   "id": "ef227e8b",
   "metadata": {},
   "outputs": [
    {
     "data": {
      "text/plain": [
       "normal       743\n",
       "tie            9\n",
       "no result      4\n",
       "Name: result, dtype: int64"
      ]
     },
     "execution_count": 72,
     "metadata": {},
     "output_type": "execute_result"
    }
   ],
   "source": [
    "match_result=df_matches['result'].value_counts()\n",
    "match_result"
   ]
  },
  {
   "cell_type": "code",
   "execution_count": 73,
   "id": "466476f5",
   "metadata": {},
   "outputs": [
    {
     "data": {
      "text/plain": [
       "<matplotlib.legend.Legend at 0x1cdb0e31d00>"
      ]
     },
     "execution_count": 73,
     "metadata": {},
     "output_type": "execute_result"
    },
    {
     "data": {
      "image/png": "[encoded data removed]",
      "text/plain": [
       "<Figure size 720x360 with 1 Axes>"
      ]
     },
     "metadata": {},
     "output_type": "display_data"
    }
   ],
   "source": [
    "match_result=match_result.plot(kind='bar',color='green',figsize=(10,5))\n",
    "plt.style.use('dark_background')\n",
    "match_result.set_title('Match Result')\n",
    "match_result.set_ylabel('Count of number of matches')\n",
    "plt.legend()\n"
   ]
  },
  {
   "cell_type": "markdown",
   "id": "6cfc4518",
   "metadata": {},
   "source": [
    "#### We can infer that there are only 4 matches happened in the IPL so far when there was no result\n",
    "\n",
    "### D/L rule"
   ]
  },
  {
   "cell_type": "code",
   "execution_count": 74,
   "id": "8e5ed194",
   "metadata": {},
   "outputs": [
    {
     "data": {
      "text/plain": [
       "0    737\n",
       "1     19\n",
       "Name: dl_applied, dtype: int64"
      ]
     },
     "execution_count": 74,
     "metadata": {},
     "output_type": "execute_result"
    }
   ],
   "source": [
    "dl_rule=df_matches['dl_applied'].value_counts()\n",
    "dl_rule"
   ]
  },
  {
   "cell_type": "code",
   "execution_count": 75,
   "id": "ea21f0d6",
   "metadata": {},
   "outputs": [
    {
     "data": {
      "text/plain": [
       "Not Applied    737\n",
       "Applied         19\n",
       "Name: dl_applied, dtype: int64"
      ]
     },
     "execution_count": 75,
     "metadata": {},
     "output_type": "execute_result"
    }
   ],
   "source": [
    "dl_rule=df_matches['dl_applied'].replace(to_replace=0,value='Not Applied',inplace=True)\n",
    "dl_rule=df_matches['dl_applied'].replace(to_replace=1,value='Applied',inplace=True)\n",
    "dl_rule=df_matches['dl_applied'].value_counts()\n",
    "dl_rule"
   ]
  },
  {
   "cell_type": "code",
   "execution_count": 76,
   "id": "2724e85c",
   "metadata": {},
   "outputs": [
    {
     "data": {
      "text/plain": [
       "<matplotlib.legend.Legend at 0x1cdb0e7a910>"
      ]
     },
     "execution_count": 76,
     "metadata": {},
     "output_type": "execute_result"
    },
    {
     "data": {
      "image/png": "[encoded data removed]",
      "text/plain": [
       "<Figure size 720x360 with 1 Axes>"
      ]
     },
     "metadata": {},
     "output_type": "display_data"
    }
   ],
   "source": [
    "dl_rule=dl_rule.plot(kind='bar',color='orange',figsize=(10,5))\n",
    "plt.style.use('dark_background')\n",
    "dl_rule.set_title('Matches where D/L rule is aaplied')\n",
    "dl_rule.set_ylabel('Number of matches')\n",
    "plt.legend()"
   ]
  },
  {
   "cell_type": "markdown",
   "id": "68a5d170",
   "metadata": {},
   "source": [
    "#### We can infer that there are only 19 matches in which D/L rule is applied"
   ]
  },
  {
   "cell_type": "markdown",
   "id": "6a997ca3",
   "metadata": {},
   "source": [
    "### Dismissal type"
   ]
  },
  {
   "cell_type": "code",
   "execution_count": 77,
   "id": "742a87fa",
   "metadata": {},
   "outputs": [
    {
     "data": {
      "text/plain": [
       "caught                   5348\n",
       "bowled                   1581\n",
       "run out                   852\n",
       "lbw                       540\n",
       "stumped                   278\n",
       "caught and bowled         211\n",
       "retired hurt               12\n",
       "hit wicket                 10\n",
       "obstructing the field       2\n",
       "Name: dismissal_kind, dtype: int64"
      ]
     },
     "execution_count": 77,
     "metadata": {},
     "output_type": "execute_result"
    }
   ],
   "source": [
    "dismissal_type=df_deliveries['dismissal_kind'].value_counts()\n",
    "dismissal_type"
   ]
  },
  {
   "cell_type": "code",
   "execution_count": 78,
   "id": "de89d0c8",
   "metadata": {},
   "outputs": [
    {
     "data": {
      "text/plain": [
       "<matplotlib.legend.Legend at 0x1cdb0ed9a90>"
      ]
     },
     "execution_count": 78,
     "metadata": {},
     "output_type": "execute_result"
    },
    {
     "data": {
      "image/png": "[encoded data removed]",
      "text/plain": [
       "<Figure size 720x360 with 1 Axes>"
      ]
     },
     "metadata": {},
     "output_type": "display_data"
    }
   ],
   "source": [
    "dismissal_type=dismissal_type.plot(kind='bar',color='darkslategrey',figsize=(10,5))\n",
    "plt.style.use('dark_background')\n",
    "dismissal_type.set_title('Most dismissal type')\n",
    "dismissal_type.set_xlabel('Number of dismissal type')\n",
    "dismissal_type.set_ylabel('Counts')\n",
    "plt.legend()"
   ]
  },
  {
   "cell_type": "markdown",
   "id": "5619a038",
   "metadata": {},
   "source": [
    "#### Players gets dismissed the most by means of catches ( 5348 times )  and least by obstructing the field ( only 2 times )\n",
    "### Super over"
   ]
  },
  {
   "cell_type": "code",
   "execution_count": 79,
   "id": "0b56f1cf",
   "metadata": {},
   "outputs": [
    {
     "data": {
      "text/plain": [
       "0    178997\n",
       "1        81\n",
       "Name: is_super_over, dtype: int64"
      ]
     },
     "execution_count": 79,
     "metadata": {},
     "output_type": "execute_result"
    }
   ],
   "source": [
    "super_over=df_deliveries['is_super_over'].value_counts()\n",
    "super_over"
   ]
  },
  {
   "cell_type": "markdown",
   "id": "0db0a89d",
   "metadata": {},
   "source": [
    "#### Let's replace the \"1\" to \"Yes\" & \"0\" to \"No\""
   ]
  },
  {
   "cell_type": "code",
   "execution_count": 80,
   "id": "2cdbe51c",
   "metadata": {},
   "outputs": [
    {
     "data": {
      "text/plain": [
       "No     178997\n",
       "Yes        81\n",
       "Name: is_super_over, dtype: int64"
      ]
     },
     "execution_count": 80,
     "metadata": {},
     "output_type": "execute_result"
    }
   ],
   "source": [
    "super_over=df_deliveries['is_super_over'].replace(to_replace=0,value='No',inplace=True)\n",
    "super_over=df_deliveries['is_super_over'].replace(to_replace=1,value='Yes',inplace=True)\n",
    "super_over=df_deliveries['is_super_over'].value_counts()\n",
    "super_over"
   ]
  },
  {
   "cell_type": "code",
   "execution_count": 81,
   "id": "bb4adaf8",
   "metadata": {},
   "outputs": [
    {
     "data": {
      "text/plain": [
       "<matplotlib.legend.Legend at 0x1cdb0f6b1f0>"
      ]
     },
     "execution_count": 81,
     "metadata": {},
     "output_type": "execute_result"
    },
    {
     "data": {
      "image/png": "[encoded data removed]",
      "text/plain": [
       "<Figure size 720x360 with 1 Axes>"
      ]
     },
     "metadata": {},
     "output_type": "display_data"
    }
   ],
   "source": [
    "super_over.plot.bar(ylabel='Number overs',title='How often super over happened',color='purple',figsize=(10,5))\n",
    "plt.style.use('dark_background')\n",
    "plt.legend()"
   ]
  },
  {
   "cell_type": "markdown",
   "id": "7fd8f51f",
   "metadata": {},
   "source": [
    "#### 81 super overs are played in the IPL history so far\n",
    "### Close matches \n",
    "#### ( 1 Run win/lose & 1 Wicket win/lose )"
   ]
  },
  {
   "cell_type": "code",
   "execution_count": 82,
   "id": "614dd9bd",
   "metadata": {
    "scrolled": false
   },
   "outputs": [
    {
     "data": {
      "text/plain": [
       "1    10\n",
       "Name: win_by_runs, dtype: int64"
      ]
     },
     "execution_count": 82,
     "metadata": {},
     "output_type": "execute_result"
    }
   ],
   "source": [
    "close_matches_by1_run=df_matches.win_by_runs[df_matches.win_by_runs==1].value_counts()\n",
    "close_matches_by1_run"
   ]
  },
  {
   "cell_type": "markdown",
   "id": "42a3da9e",
   "metadata": {},
   "source": [
    "#### We can see there are 10 matches ended with win/lose by 1 run\n",
    "#### Let's see the breakdown of these matches with the teams which involved the most in these matches"
   ]
  },
  {
   "cell_type": "code",
   "execution_count": 83,
   "id": "4ecd3d70",
   "metadata": {},
   "outputs": [
    {
     "data": {
      "text/plain": [
       "Mumbai Indians                 3\n",
       "Royal Challengers Bangalore    2\n",
       "Kings XI Punjab                2\n",
       "Chennai Super Kings            1\n",
       "Gujarat Lions                  1\n",
       "Delhi Daredevils               1\n",
       "Name: winner, dtype: int64"
      ]
     },
     "execution_count": 83,
     "metadata": {},
     "output_type": "execute_result"
    }
   ],
   "source": [
    "close_matches_by1_run=df_matches.winner[df_matches.win_by_runs==1].value_counts()\n",
    "close_matches_by1_run"
   ]
  },
  {
   "cell_type": "markdown",
   "id": "b11a8f0e",
   "metadata": {},
   "source": [
    "#### By 1 Wicket"
   ]
  },
  {
   "cell_type": "code",
   "execution_count": 84,
   "id": "651567cb",
   "metadata": {},
   "outputs": [
    {
     "data": {
      "text/plain": [
       "1    3\n",
       "Name: win_by_wickets, dtype: int64"
      ]
     },
     "execution_count": 84,
     "metadata": {},
     "output_type": "execute_result"
    }
   ],
   "source": [
    "close_matches_by1_wickets=df_matches.win_by_wickets[df_matches.win_by_wickets==1].value_counts()\n",
    "close_matches_by1_wickets"
   ]
  },
  {
   "cell_type": "markdown",
   "id": "63278558",
   "metadata": {},
   "source": [
    "#### We can see there are 10 matches ended with win/lose by 1 wicket\n",
    "#### Let's see the breakdown of these matches with the teams which involved the most in these matches"
   ]
  },
  {
   "cell_type": "code",
   "execution_count": 85,
   "id": "a6e416e8",
   "metadata": {
    "scrolled": true
   },
   "outputs": [
    {
     "data": {
      "text/plain": [
       "Sunrisers Hyderabad      1\n",
       "Chennai Super Kings      1\n",
       "Kolkata Knight Riders    1\n",
       "Name: winner, dtype: int64"
      ]
     },
     "execution_count": 85,
     "metadata": {},
     "output_type": "execute_result"
    }
   ],
   "source": [
    "close_matches_by1_wickets=df_matches.winner[df_matches.win_by_wickets==1].value_counts()\n",
    "close_matches_by1_wickets"
   ]
  },
  {
   "cell_type": "markdown",
   "id": "564807f8",
   "metadata": {},
   "source": [
    "### Category 3 (Analysis Of IPL Matches) - Key Insights:\n",
    "\n",
    "#### • Eden Garden Satdium of Kolkata city hosted themost number of matches(77) followed by Wankhede Stadium(73)\n",
    "\n",
    "#### • Most matches played in 2013-Season (76 Matches) , followed by 2012-Season (74 Matches)\n",
    "\n",
    "#### • D/L rule is applied to 19 matches\n",
    "\n",
    "#### • Most dismissal type is catch in the IPL so far and the least type is \"Obstructing The Field\" by which only 2 players got dismissed.\n",
    "\n",
    "#### • There are 81 super overs played in IPL so far"
   ]
  }
 ],
 "metadata": {
  "kernelspec": {
   "display_name": "Python 3",
   "language": "python",
   "name": "python3"
  },
  "language_info": {
   "codemirror_mode": {
    "name": "ipython",
    "version": 3
   },
   "file_extension": ".py",
   "mimetype": "text/x-python",
   "name": "python",
   "nbconvert_exporter": "python",
   "pygments_lexer": "ipython3",
   "version": "3.8.8"
  }
 },
 "nbformat": 4,
 "nbformat_minor": 5
}
